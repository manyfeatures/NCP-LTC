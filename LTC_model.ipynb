{
 "cells": [
  {
   "cell_type": "code",
   "execution_count": 1,
   "metadata": {},
   "outputs": [],
   "source": [
    "using Flux\n",
    "using Plots\n",
    "using Parameters\n",
    "\n",
    "import Random\n",
    "using StatsBase # for random choice\n",
    "Random.seed!(1234);"
   ]
  },
  {
   "cell_type": "markdown",
   "metadata": {},
   "source": [
    "###### Data"
   ]
  },
  {
   "cell_type": "code",
   "execution_count": 2,
   "metadata": {},
   "outputs": [
    {
     "name": "stdout",
     "output_type": "stream",
     "text": [
      "(1, 48, 2)\n",
      "(1, 48, 1)\n"
     ]
    }
   ],
   "source": [
    "in_features = 2\n",
    "out_features = 1\n",
    "N = 48\n",
    "\n",
    "π_32 = Float32(π)\n",
    "t = range(0.0f0,stop=3π_32, length = N)\n",
    "sin_t = sin.(t)\n",
    "cos_t = cos.(t)\n",
    "data_x = reshape(hcat(sin_t, cos_t), (1, N, 2))\n",
    "data_y = reshape(sin.(range(0.0f0,stop=6π_32, length = N)), (1, N, 1))#.astype(np.float32)\n",
    "println(size(data_x))\n",
    "println(size(data_y))\n",
    "#dataloader = Flux.Data.DataLoader(data_x, data_y; batchsize=1, shuffle=true)\n",
    "\n",
    "# Plots\n",
    "#plot(data_x[:,:,1]')\n",
    "#plot!(data_x[:,:,2]')\n",
    "#plot!(data_y[1,:,1])"
   ]
  },
  {
   "cell_type": "markdown",
   "metadata": {},
   "source": [
    "###### Wiring"
   ]
  },
  {
   "cell_type": "code",
   "execution_count": 3,
   "metadata": {},
   "outputs": [
    {
     "data": {
      "text/plain": [
       "_motor_size (generic function with 1 method)"
      ]
     },
     "execution_count": 3,
     "metadata": {},
     "output_type": "execute_result"
    }
   ],
   "source": [
    "# Macro for inserting fields \n",
    "macro def(name, definition) \n",
    "  return quote\n",
    "      macro $(esc(name))()\n",
    "          esc($(Expr(:quote, definition)))\n",
    "      end\n",
    "  end\n",
    "end\n",
    "\n",
    "# Wiring\n",
    "# Do we really need the exact code as one for the biology?\n",
    "abstract type Wiring end\n",
    "@def wiring_fields begin\n",
    "     units\n",
    "     adjacency_matrix\n",
    "     sensory_adjacency_matrix\n",
    "     input_dim\n",
    "     output_dim\n",
    "end\n",
    "\n",
    "# Outer constructor\n",
    "#Wiring(units::Int64) = Wiring(units, zeros((units, units)), Nothing, Nothing)\n",
    "\n",
    "# Methods\n",
    "function _build(wiring::Wiring, input_shape) # for Wiring type\n",
    "    _input_dim = convert(Int, input_shape[2])\n",
    "    # do assert check\n",
    "    if wiring.input_dim === nothing\n",
    "        set_input_dim(wiring, _input_dim)\n",
    "    end\n",
    "end\n",
    "\n",
    "function add_synapse(adjacency_matrix, src, dest, polarity)\n",
    "    adjacency_matrix[src, dest] = polarity\n",
    "    #adjacency_matrix\n",
    "end\n",
    "\n",
    "function _init_add_synapse(units, adjacency_matrix, self_conn)\n",
    "    for src in (1:units)\n",
    "        for dest in (1:units)\n",
    "            if src === dest && !self_conn\n",
    "                continue\n",
    "            end\n",
    "            polarity = StatsBase.sample([-1,1,1])\n",
    "            add_synapse(adjacency_matrix, src, dest, polarity)\n",
    "            #println(src, dest)\n",
    "        end\n",
    "    end\n",
    "    #@show adjacency_matrix\n",
    "end\n",
    "\n",
    "function add_sensory_synapse(sensory_adjacency_matrix, src, dest, polarity)\n",
    "    sensory_adjacency_matrix[src, dest] = polarity\n",
    "    #adjacency_matrix\n",
    "end\n",
    "\n",
    "# not used?\n",
    "function set_input_dim(wiring::Wiring, _input_dim)\n",
    "    wiring.input_dim = _input_dim\n",
    "    units = wiring.units\n",
    "    wiring.sensory_adjacency_matrix = zeros((_input_dim, units))\n",
    "end \n",
    "\n",
    "function _erev_initializer(wiring::Wiring, shape=nothing, dtype=nothing) # dtype?\n",
    "    copy(wiring.adjacency_matrix)\n",
    "end\n",
    "\n",
    "function _sensory_erev_initializer(wiring::Wiring, shape=nothing, dtype=nothing) # dtype?\n",
    "    copy(wiring.sensory_adjacency_matrix)\n",
    "end\n",
    "\n",
    "function _state_size(wiring::Wiring)\n",
    "    return wiring.units\n",
    "end\n",
    "\n",
    "function _sensory_size(wiring::Wiring)\n",
    "    return wiring.input_dim\n",
    "end\n",
    "\n",
    "function _motor_size(wiring::Wiring)\n",
    "    return wiring.output_dim\n",
    "end\n",
    "\n",
    "# Test \n",
    "#set_input_dim(wiring, 2)"
   ]
  },
  {
   "cell_type": "markdown",
   "metadata": {},
   "source": [
    "###### Fully Connected"
   ]
  },
  {
   "cell_type": "code",
   "execution_count": 4,
   "metadata": {},
   "outputs": [],
   "source": [
    "mutable struct FullyConnected <: Wiring\n",
    "    @wiring_fields\n",
    "    self_conns # default value ?\n",
    "    # Inner constructor\n",
    "    function FullyConnected(units, _output_dim = nothing, _input_dim = nothing, self_conns = true) #arguments order and call?\n",
    "        adjacency_matrix = zeros((units, units))\n",
    "        sensory_adjacency_matrix = nothing\n",
    "        if _output_dim === nothing\n",
    "            output_dim = units\n",
    "        else\n",
    "            output_dim = _output_dim\n",
    "        end\n",
    "        _init_add_synapse(units, adjacency_matrix, self_conns)\n",
    "        return new(units, adjacency_matrix, sensory_adjacency_matrix, _input_dim,\n",
    "                   output_dim, self_conns)\n",
    "    end\n",
    "end"
   ]
  },
  {
   "cell_type": "code",
   "execution_count": 5,
   "metadata": {},
   "outputs": [
    {
     "data": {
      "text/plain": [
       "build (generic function with 1 method)"
      ]
     },
     "execution_count": 5,
     "metadata": {},
     "output_type": "execute_result"
    }
   ],
   "source": [
    "# Methods\n",
    "function build(wiring::FullyConnected, input_shape)\n",
    "    _build(wiring, input_shape) # from Wiring\n",
    "    #@show wiring\n",
    "    input_dim = wiring.input_dim\n",
    "    units = wiring.input_dim\n",
    "    sensory_adjacency_matrix = wiring.sensory_adjacency_matrix\n",
    "    for src in (1:input_dim)\n",
    "        for dest in (1:units)\n",
    "#             if src === dest && !self_conn\n",
    "#                 continue\n",
    "#             end\n",
    "            polarity = StatsBase.sample([-1,1,1])\n",
    "            @show polarity\n",
    "            add_sensory_synapse(sensory_adjacency_matrix, src, dest, polarity)\n",
    "            #println(src, dest)\n",
    "        end\n",
    "    end\n",
    "end"
   ]
  },
  {
   "cell_type": "code",
   "execution_count": 6,
   "metadata": {},
   "outputs": [
    {
     "data": {
      "text/plain": [
       "_get_init_ranges (generic function with 1 method)"
      ]
     },
     "execution_count": 6,
     "metadata": {},
     "output_type": "execute_result"
    }
   ],
   "source": [
    "function _get_init_ranges()\n",
    "    _init_ranges = Dict(\n",
    "            \"gleak\"=> (0.001, 1.0),\n",
    "            \"vleak\"=> (-0.2, 0.2),\n",
    "            \"cm\"=> (0.4, 0.6),\n",
    "            \"w\"=> (0.001, 1.0),\n",
    "            \"sigma\"=> (3, 8),\n",
    "            \"mu\"=> (0.3, 0.8),\n",
    "            \"sensory_w\"=> (0.001, 1.0),\n",
    "            \"sensory_sigma\"=> (3, 8),\n",
    "            \"sensory_mu\"=> (0.3, 0.8))\n",
    "end"
   ]
  },
  {
   "cell_type": "code",
   "execution_count": 7,
   "metadata": {},
   "outputs": [
    {
     "data": {
      "text/plain": [
       "_get_init_value (generic function with 1 method)"
      ]
     },
     "execution_count": 7,
     "metadata": {},
     "output_type": "execute_result"
    }
   ],
   "source": [
    "# For initializing fields\n",
    "function _get_init_value(shape, name, init_ranges)\n",
    "    minval, maxval = init_ranges[name]\n",
    "    if minval === maxval\n",
    "        return ones(shape) * minval\n",
    "    else\n",
    "        return rand(Float64, shape) * (maxval - minval) .+ minval\n",
    "    end\n",
    "end"
   ]
  },
  {
   "cell_type": "code",
   "execution_count": 8,
   "metadata": {},
   "outputs": [
    {
     "data": {
      "text/plain": [
       "_get_mapping_weights (generic function with 1 method)"
      ]
     },
     "execution_count": 8,
     "metadata": {},
     "output_type": "execute_result"
    }
   ],
   "source": [
    "function _get_mapping_weights(wiring, input_mapping, output_mapping,\n",
    "                              input_w, input_b, output_w, output_b)\n",
    "    sensory_size = _sensory_size(wiring)\n",
    "    motor_size = _motor_size(wiring)\n",
    "    \n",
    "    if input_mapping in [\"affine\", \"linear\"]\n",
    "        input_w = ones((1, sensory_size))\n",
    "    end\n",
    "    if input_mapping in [\"affine\"]\n",
    "        input_b = zeros((1, sensory_size))\n",
    "    end\n",
    "    if output_mapping in [\"affine\", \"linear\"]\n",
    "        output_w = ones(motor_size)\n",
    "    end\n",
    "    if output_mapping in [\"affine\"]\n",
    "        output_b = zeros(motor_size)\n",
    "    end\n",
    "    return input_w, input_b, output_w, output_b\n",
    "end"
   ]
  },
  {
   "cell_type": "markdown",
   "metadata": {},
   "source": [
    "### LTC cell"
   ]
  },
  {
   "cell_type": "markdown",
   "metadata": {},
   "source": [
    "###### Definition\n"
   ]
  },
  {
   "cell_type": "code",
   "execution_count": 9,
   "metadata": {},
   "outputs": [
    {
     "data": {
      "text/plain": [
       "@trainable_weights (macro with 1 method)"
      ]
     },
     "execution_count": 9,
     "metadata": {},
     "output_type": "execute_result"
    }
   ],
   "source": [
    "# Weights fields \n",
    "@def trainable_weights begin\n",
    "    gleak\n",
    "    vleak\n",
    "    cm\n",
    "    sigma\n",
    "    mu\n",
    "    w\n",
    "    sensory_sigma\n",
    "    sensory_mu\n",
    "    sensory_w\n",
    "    #erev\n",
    "    #sensory_erev\n",
    "    # conditional\n",
    "    input_w\n",
    "    input_b\n",
    "    output_w\n",
    "    output_b\n",
    "    # 13 weights in total\n",
    "end"
   ]
  },
  {
   "cell_type": "code",
   "execution_count": 10,
   "metadata": {},
   "outputs": [],
   "source": [
    "mutable struct LTCCell\n",
    "    _wiring::Wiring        \n",
    "    #_init_ranges\n",
    "    _input_mapping::String\n",
    "    _output_mapping::String\n",
    "    _ode_unfolds::Int\n",
    "    _epsilon\n",
    "    #_params::Dict # Is this trainable in Dict format?\n",
    "    state0 # for Recur\n",
    "    sparsity_mask\n",
    "    sensory_sparsity_mask\n",
    "    erev\n",
    "    sensory_erev\n",
    "    @trainable_weights\n",
    "    \n",
    "    function LTCCell(wiring, in_features = nothing, input_mapping=\"affine\",\n",
    "            output_mapping=\"affine\", ode_unfolds=6, epsilon=1e-8, state0=zeros(1, 8), \n",
    "            input_w = nothing, input_b = nothing, output_w = nothing,  output_b = nothing)\n",
    "        \n",
    "        if in_features !== nothing\n",
    "            build(wiring, (nothing, in_features))\n",
    "        end\n",
    "        \n",
    "        state_size = _state_size(wiring)\n",
    "        sensory_size = _sensory_size(wiring)\n",
    "        motor_size = _motor_size(wiring)\n",
    "        # Is this proper place?\n",
    "        init_ranges = _get_init_ranges()\n",
    "        input_w, input_b, output_w, output_b = _get_mapping_weights(wiring, input_mapping,\n",
    "                                            output_mapping,\n",
    "                                            input_w, input_b, output_w, output_b)\n",
    "        new(wiring, \n",
    "            input_mapping,\n",
    "            output_mapping,\n",
    "            ode_unfolds,\n",
    "            epsilon,\n",
    "            state0,\n",
    "            abs.(wiring.adjacency_matrix),\n",
    "            abs.(wiring.sensory_adjacency_matrix),\n",
    "            _erev_initializer(wiring),\n",
    "            _sensory_erev_initializer(wiring), \n",
    "            _get_init_value(state_size, \"gleak\", init_ranges), \n",
    "            _get_init_value(state_size, \"vleak\", init_ranges),\n",
    "            _get_init_value(state_size, \"cm\", init_ranges),\n",
    "            _get_init_value((state_size, state_size), \"sigma\", init_ranges),\n",
    "            _get_init_value((state_size, state_size), \"mu\", init_ranges),\n",
    "            _get_init_value((state_size, state_size), \"w\", init_ranges),\n",
    "            _get_init_value((sensory_size, state_size), \"sensory_sigma\", init_ranges),\n",
    "            _get_init_value((sensory_size, state_size), \"sensory_mu\", init_ranges),\n",
    "            _get_init_value((sensory_size, state_size), \"sensory_w\", init_ranges),\n",
    "            input_w,\n",
    "            input_b,\n",
    "            output_w,\n",
    "            output_b)\n",
    "    end\n",
    "end"
   ]
  },
  {
   "cell_type": "code",
   "execution_count": 11,
   "metadata": {},
   "outputs": [],
   "source": [
    "#wiring = FullyConnected(8)\n",
    "#cell = LTCCell(wiring, in_features)"
   ]
  },
  {
   "cell_type": "code",
   "execution_count": 12,
   "metadata": {},
   "outputs": [
    {
     "data": {
      "text/plain": [
       "_state_size (generic function with 2 methods)"
      ]
     },
     "execution_count": 12,
     "metadata": {},
     "output_type": "execute_result"
    }
   ],
   "source": [
    "# Additional\n",
    "function _state_size(ltc::LTCCell)\n",
    "    return _state_size(ltc._wiring)\n",
    "end"
   ]
  },
  {
   "cell_type": "code",
   "execution_count": 13,
   "metadata": {},
   "outputs": [
    {
     "data": {
      "text/plain": [
       "apply_weight_constraints (generic function with 1 method)"
      ]
     },
     "execution_count": 13,
     "metadata": {},
     "output_type": "execute_result"
    }
   ],
   "source": [
    "function apply_weight_constraints(LTC)\n",
    "    LTC.cell.w = Flux.relu.(LTC.cell.w)\n",
    "    LTC.cell.sensory_w = Flux.relu.(LTC.cell.sensory_w)\n",
    "    LTC.cell.cm = Flux.relu.(LTC.cell.cm)\n",
    "    LTC.cell.gleak = Flux.relu.(LTC.cell.gleak)\n",
    "end"
   ]
  },
  {
   "cell_type": "markdown",
   "metadata": {},
   "source": [
    "### ODE"
   ]
  },
  {
   "cell_type": "code",
   "execution_count": 14,
   "metadata": {},
   "outputs": [
    {
     "data": {
      "text/plain": [
       "_map_outputs (generic function with 1 method)"
      ]
     },
     "execution_count": 14,
     "metadata": {},
     "output_type": "execute_result"
    }
   ],
   "source": [
    "function _map_inputs(ltc::LTCCell, inputs)\n",
    "    if ltc._input_mapping in [\"affine\", \"linear\"]\n",
    "        inputs = inputs .* ltc.input_w # Element-wise \n",
    "        #@show ltc.input_b\n",
    "    end\n",
    "    if ltc._input_mapping === \"affine\"\n",
    "\n",
    "        inputs = inputs .+ ltc.input_b\n",
    "    end\n",
    "    \n",
    "    @assert size(inputs) === (1,2)\n",
    "    return inputs\n",
    "end\n",
    "\n",
    "function _map_outputs(ltc::LTCCell, state)\n",
    "    output = state\n",
    "    _motor_size = ltc._wiring.output_dim\n",
    "    #@show _motor_size, _state_size(ltc)\n",
    "    if _motor_size < _state_size(ltc)\n",
    "        println(\"!oups\")\n",
    "        output = output[:, 1:_motor_size]  # slice\n",
    "    end\n",
    "    if ltc._output_mapping in [\"affine\", \"linear\"]\n",
    "        output = output .* reshape(ltc.output_w, (1, size(ltc.output_w)...)) # Element-wise \n",
    "    end\n",
    "    if ltc._output_mapping === \"affine\"\n",
    "        output = output .+ reshape(ltc.output_b, (1, size(ltc.output_b)...)) # Element-wise \n",
    "    end\n",
    "    #@assert size(inputs) === (1,2)\n",
    "    return output    \n",
    "end"
   ]
  },
  {
   "cell_type": "code",
   "execution_count": 15,
   "metadata": {},
   "outputs": [
    {
     "data": {
      "text/plain": [
       "_sigmoid (generic function with 1 method)"
      ]
     },
     "execution_count": 15,
     "metadata": {},
     "output_type": "execute_result"
    }
   ],
   "source": [
    "function _sigmoid(v_pre, mu, sigma)\n",
    "    v_pre = reshape(v_pre, (size(v_pre)...,1)) # add batch dim\n",
    "    mu = reshape(mu, 1, size(mu)...) # for dims match ?\n",
    "    \n",
    "    mues = v_pre .- mu \n",
    "  \n",
    "    x = map(x_ -> (sigma .* x_), eachslice(mues, dims=1))[end]\n",
    "    x = reshape(x, 1, size(x)...) # for dims match\n",
    "    return σ.(x)\n",
    "end"
   ]
  },
  {
   "cell_type": "code",
   "execution_count": 16,
   "metadata": {},
   "outputs": [
    {
     "data": {
      "text/plain": [
       "complicated_prod (generic function with 1 method)"
      ]
     },
     "execution_count": 16,
     "metadata": {},
     "output_type": "execute_result"
    }
   ],
   "source": [
    "function complicated_prod(a, b; dim=1)\n",
    "    # This is for keeping some dim restriction during broadcasting\n",
    "    out = map(x -> a .* x, eachslice(b, dims=dim))[end]\n",
    "    reshape(out, 1, size(out)...) # for dims match ?\n",
    "end"
   ]
  },
  {
   "cell_type": "code",
   "execution_count": 17,
   "metadata": {},
   "outputs": [
    {
     "data": {
      "text/plain": [
       "_ode_solver_ (generic function with 1 method)"
      ]
     },
     "execution_count": 17,
     "metadata": {},
     "output_type": "execute_result"
    }
   ],
   "source": [
    "function _ode_solver_(ltc::LTCCell, inputs, state, elapsed_time)\n",
    "    v_pre = state\n",
    "    # We can pre-compute the effects of the sensory neurons here\n",
    "    println(\"Again we need slice(((\")\n",
    "    sensory_w_activation = complicated_prod(ltc.sensory_w,\n",
    "                                            _sigmoid(inputs, ltc.sensory_mu,\n",
    "                                                     ltc.sensory_sigma))    \n",
    "    #@show size(sensory_w_activation)\n",
    "    #@show size(ltc.sensory_sparsity_mask)\n",
    "    sensory_w_activation =  complicated_prod(ltc.sensory_sparsity_mask, \n",
    "                                             sensory_w_activation,)\n",
    "    \n",
    "    sensory_rev_activation = complicated_prod(ltc.sensory_erev, sensory_w_activation)\n",
    "\n",
    "    # Reduce over dimension 1 (=source sensory neurons)\n",
    "    w_numerator_sensory = dropdims(sum(sensory_rev_activation, dims=2), dims=2)\n",
    "    w_denominator_sensory =  dropdims(sum(sensory_w_activation, dims=2), dims=2)\n",
    "\n",
    "\n",
    "    # cm/t is loop invariant\n",
    "    cm_t = ltc.cm / (elapsed_time / ltc._ode_unfolds)\n",
    "    # Unfold the multiply ODE multiple times into one RNN step\n",
    "    for t = 1:ltc._ode_unfolds\n",
    "        w_activation =  complicated_prod(ltc.w, \n",
    "                                        _sigmoid(\n",
    "                                                v_pre, ltc.mu,\n",
    "                                        ltc.sigma))\n",
    "        w_activation = complicated_prod(ltc.sparsity_mask, w_activation) \n",
    "\n",
    "        rev_activation = complicated_prod(ltc.erev, w_activation)\n",
    "        # Reduce over dimension 1 (=source neurons)\n",
    "        w_numerator = dropdims(sum(rev_activation, dims=2), dims=2) .+ w_numerator_sensory\n",
    "        #w_numerator = sum(rev_activation, dim=2) + w_numerator_sensory\n",
    "        #w_denominator = sum(w_activation, dim=2) + w_denominator_sensory\n",
    "        w_denominator = dropdims(sum(w_activation, dims=2), dims=2) .+ w_denominator_sensory        \n",
    " \n",
    "        numerator = (\n",
    "            reshape(cm_t, (1, size(cm_t)...)) .* v_pre \n",
    "            .+ reshape(ltc.gleak, (1, size(ltc.gleak)...))  \n",
    "            .* reshape(ltc.vleak, (1, size(ltc.vleak)...))\n",
    "            .+ w_numerator\n",
    "        )\n",
    "        denominator = reshape(cm_t, (1, size(cm_t)...)) \n",
    "             .+ reshape(ltc.gleak, (1, size(ltc.gleak)...))  \n",
    "             .+ w_denominator\n",
    "        # Avoid dividing by 0\n",
    "        v_pre = numerator ./ (denominator .+ ltc._epsilon)\n",
    "        #@show size(v_pre)\n",
    "    end\n",
    "    return v_pre\n",
    "end"
   ]
  },
  {
   "cell_type": "markdown",
   "metadata": {},
   "source": [
    "### Forward"
   ]
  },
  {
   "cell_type": "code",
   "execution_count": 18,
   "metadata": {},
   "outputs": [],
   "source": [
    "function (ltc::LTCCell)(state, inputs) # order matters !\n",
    "    elapsed_time = 1.0f0\n",
    "    inputs = _map_inputs(ltc, inputs)\n",
    "    next_state = _ode_solver_(ltc, inputs, state, elapsed_time)\n",
    "    outputs = _map_outputs(ltc, next_state)\n",
    "    return next_state, outputs # for Recur the order matter\n",
    "end"
   ]
  },
  {
   "cell_type": "code",
   "execution_count": 19,
   "metadata": {},
   "outputs": [],
   "source": [
    "#wiring = FullyConnected(8, out_features)\n",
    "#LTC = Flux.Recur(LTCCell(wiring, in_features), rand(1,8)) # toy state\n",
    "#cell = LTCCell(wiring, in_features);\n",
    "#forward_step(data_x)"
   ]
  },
  {
   "cell_type": "markdown",
   "metadata": {},
   "source": [
    "###### Recur"
   ]
  },
  {
   "cell_type": "code",
   "execution_count": 20,
   "metadata": {},
   "outputs": [
    {
     "name": "stdout",
     "output_type": "stream",
     "text": [
      "polarity = 1\n",
      "polarity = -1\n",
      "polarity = -1\n",
      "polarity = -1\n"
     ]
    }
   ],
   "source": [
    "wiring = FullyConnected(8, out_features)\n",
    "LTC = Flux.Recur(LTCCell(wiring, in_features), zeros(size(data_x)[1], # batch size\n",
    "                                              _state_size(wiring))); # \n",
    "#LTC(rand(1,2))"
   ]
  },
  {
   "cell_type": "code",
   "execution_count": 21,
   "metadata": {},
   "outputs": [
    {
     "data": {
      "text/plain": [
       "48"
      ]
     },
     "execution_count": 21,
     "metadata": {},
     "output_type": "execute_result"
    }
   ],
   "source": [
    "batch_size = size(data_x)[1] # batch dim\n",
    "seq_len = size(data_x)[2]"
   ]
  },
  {
   "cell_type": "code",
   "execution_count": 22,
   "metadata": {},
   "outputs": [
    {
     "data": {
      "text/plain": [
       "forward_step (generic function with 1 method)"
      ]
     },
     "execution_count": 22,
     "metadata": {},
     "output_type": "execute_result"
    }
   ],
   "source": [
    "function forward_step(x) \n",
    "    outputs = vcat([LTC(x[:, t, :])[end] for t in 1:seq_len]) # `end`\n",
    "                                                              # for extracting number from array\n",
    "    #@show outputs\n",
    "    @show Flux.reset!(LTC)\n",
    "    return reshape(outputs, (1, seq_len, 1))#. # for Recur\n",
    "end"
   ]
  },
  {
   "cell_type": "code",
   "execution_count": 23,
   "metadata": {},
   "outputs": [],
   "source": [
    "# Test\n",
    "#forward_step(data_x) "
   ]
  },
  {
   "cell_type": "markdown",
   "metadata": {},
   "source": [
    "# Loss"
   ]
  },
  {
   "cell_type": "code",
   "execution_count": 24,
   "metadata": {},
   "outputs": [],
   "source": [
    "# do we need reset function?"
   ]
  },
  {
   "cell_type": "code",
   "execution_count": 25,
   "metadata": {},
   "outputs": [
    {
     "data": {
      "text/plain": [
       "loss (generic function with 1 method)"
      ]
     },
     "execution_count": 25,
     "metadata": {},
     "output_type": "execute_result"
    }
   ],
   "source": [
    "loss(x, y) = sum(abs2.(forward_step(x) .- y))"
   ]
  },
  {
   "cell_type": "code",
   "execution_count": 26,
   "metadata": {},
   "outputs": [
    {
     "name": "stdout",
     "output_type": "stream",
     "text": [
      "Again we need slice(((\n",
      "!oups\n",
      "Again we need slice(((\n",
      "!oups\n",
      "Again we need slice(((\n",
      "!oups\n",
      "Again we need slice(((\n",
      "!oups\n",
      "Again we need slice(((\n",
      "!oups\n",
      "Again we need slice(((\n",
      "!oups\n",
      "Again we need slice(((\n",
      "!oups\n",
      "Again we need slice(((\n",
      "!oups\n",
      "Again we need slice(((\n",
      "!oups\n",
      "Again we need slice(((\n",
      "!oups\n",
      "Again we need slice(((\n",
      "!oups\n",
      "Again we need slice(((\n",
      "!oups\n",
      "Again we need slice(((\n",
      "!oups\n",
      "Again we need slice(((\n",
      "!oups\n",
      "Again we need slice(((\n",
      "!oups\n",
      "Again we need slice(((\n",
      "!oups\n",
      "Again we need slice(((\n",
      "!oups\n",
      "Again we need slice(((\n",
      "!oups\n",
      "Again we need slice(((\n",
      "!oups\n",
      "Again we need slice(((\n",
      "!oups\n",
      "Again we need slice(((\n",
      "!oups\n",
      "Again we need slice(((\n",
      "!oups\n",
      "Again we need slice(((\n",
      "!oups\n",
      "Again we need slice(((\n",
      "!oups\n",
      "Again we need slice(((\n",
      "!oups\n",
      "Again we need slice(((\n",
      "!oups\n",
      "Again we need slice(((\n",
      "!oups\n",
      "Again we need slice(((\n",
      "!oups\n",
      "Again we need slice(((\n",
      "!oups\n",
      "Again we need slice(((\n",
      "!oups\n",
      "Again we need slice(((\n",
      "!oups\n",
      "Again we need slice(((\n",
      "!oups\n",
      "Again we need slice(((\n",
      "!oups\n",
      "Again we need slice(((\n",
      "!oups\n",
      "Again we need slice(((\n",
      "!oups\n",
      "Again we need slice(((\n",
      "!oups\n",
      "Again we need slice(((\n",
      "!oups\n",
      "Again we need slice(((\n",
      "!oups\n",
      "Again we need slice(((\n",
      "!oups\n",
      "Again we need slice(((\n",
      "!oups\n",
      "Again we need slice(((\n",
      "!oups\n",
      "Again we need slice(((\n",
      "!oups\n",
      "Again we need slice(((\n",
      "!oups\n",
      "Again we need slice(((\n",
      "!oups\n",
      "Again we need slice(((\n",
      "!oups\n",
      "Again we need slice(((\n",
      "!oups\n",
      "Again we need slice(((\n",
      "!oups\n",
      "Again we need slice(((\n",
      "!oups\n",
      "Flux.reset!(LTC) = [0.0 0.0 0.0 0.0 0.0 0.0 0.0 0.0]\n"
     ]
    },
    {
     "data": {
      "text/plain": [
       "1365.1938469801705"
      ]
     },
     "execution_count": 26,
     "metadata": {},
     "output_type": "execute_result"
    }
   ],
   "source": [
    "loss(data_x, data_y)"
   ]
  },
  {
   "cell_type": "markdown",
   "metadata": {},
   "source": [
    "### grad"
   ]
  },
  {
   "cell_type": "code",
   "execution_count": 27,
   "metadata": {},
   "outputs": [],
   "source": [
    "Flux.trainable(ltc::LTCCell) = (ltc.gleak,\n",
    "                                ltc.vleak,\n",
    "                                ltc.cm,\n",
    "                                ltc.sigma,\n",
    "                                ltc.mu,\n",
    "                                ltc.w,\n",
    "                                ltc.sensory_sigma,\n",
    "                                ltc.sensory_mu,\n",
    "                                ltc.sensory_w,\n",
    "                                ltc.input_w,\n",
    "                                ltc.input_b,\n",
    "                                ltc.output_w,\n",
    "                                ltc.output_b, ) "
   ]
  },
  {
   "cell_type": "markdown",
   "metadata": {},
   "source": [
    "There is definitely problem in forward step wrapper!!!"
   ]
  },
  {
   "cell_type": "code",
   "execution_count": 28,
   "metadata": {},
   "outputs": [
    {
     "name": "stdout",
     "output_type": "stream",
     "text": [
      "length(params(LTC)) = 13\n",
      "Again we need slice(((\n",
      "!oups\n",
      "Again we need slice(((\n",
      "!oups\n",
      "Again we need slice(((\n",
      "!oups\n",
      "Again we need slice(((\n",
      "!oups\n",
      "Again we need slice(((\n",
      "!oups\n",
      "Again we need slice(((\n",
      "!oups\n",
      "Again we need slice(((\n",
      "!oups\n",
      "Again we need slice(((\n",
      "!oups\n",
      "Again we need slice(((\n",
      "!oups\n",
      "Again we need slice(((\n",
      "!oups\n",
      "Again we need slice(((\n",
      "!oups\n",
      "Again we need slice(((\n",
      "!oups\n",
      "Again we need slice(((\n",
      "!oups\n",
      "Again we need slice(((\n",
      "!oups\n",
      "Again we need slice(((\n",
      "!oups\n",
      "Again we need slice(((\n",
      "!oups\n",
      "Again we need slice(((\n",
      "!oups\n",
      "Again we need slice(((\n",
      "!oups\n",
      "Again we need slice(((\n",
      "!oups\n",
      "Again we need slice(((\n",
      "!oups\n",
      "Again we need slice(((\n",
      "!oups\n",
      "Again we need slice(((\n",
      "!oups\n",
      "Again we need slice(((\n",
      "!oups\n",
      "Again we need slice(((\n",
      "!oups\n",
      "Again we need slice(((\n",
      "!oups\n",
      "Again we need slice(((\n",
      "!oups\n",
      "Again we need slice(((\n",
      "!oups\n",
      "Again we need slice(((\n",
      "!oups\n",
      "Again we need slice(((\n",
      "!oups\n",
      "Again we need slice(((\n",
      "!oups\n",
      "Again we need slice(((\n",
      "!oups\n",
      "Again we need slice(((\n",
      "!oups\n",
      "Again we need slice(((\n",
      "!oups\n",
      "Again we need slice(((\n",
      "!oups\n",
      "Again we need slice(((\n",
      "!oups\n",
      "Again we need slice(((\n",
      "!oups\n",
      "Again we need slice(((\n",
      "!oups\n",
      "Again we need slice(((\n",
      "!oups\n",
      "Again we need slice(((\n",
      "!oups\n",
      "Again we need slice(((\n",
      "!oups\n",
      "Again we need slice(((\n",
      "!oups\n",
      "Again we need slice(((\n",
      "!oups\n",
      "Again we need slice(((\n",
      "!oups\n",
      "Again we need slice(((\n",
      "!oups\n",
      "Again we need slice(((\n",
      "!oups\n",
      "Again we need slice(((\n",
      "!oups\n",
      "Again we need slice(((\n",
      "!oups\n",
      "Again we need slice(((\n",
      "!oups\n",
      "Flux.reset!(LTC) = [0.0 0.0 0.0 0.0 0.0 0.0 0.0 0.0]\n",
      "loss(data_x, data_y) = 1365.1938469801705\n"
     ]
    },
    {
     "data": {
      "text/plain": [
       "Grads(...)"
      ]
     },
     "execution_count": 28,
     "metadata": {},
     "output_type": "execute_result"
    }
   ],
   "source": [
    "@show length(params(LTC))\n",
    "\n",
    "grads = Flux.gradient(params(LTC)) do\n",
    "     @show loss(data_x, data_y)#loss(data_x, data_y)\n",
    "end"
   ]
  },
  {
   "cell_type": "code",
   "execution_count": 29,
   "metadata": {},
   "outputs": [
    {
     "name": "stdout",
     "output_type": "stream",
     "text": [
      "[726.4934499043114, -614.0606340433292, -63.990126138511215, 345.7111829966068, -38.24589181202607, -44.63609356332123, 9.938735082920022, -19.102787060421292]\n",
      "[2830.3423350559656, -859.3105182896973, -817.5233569552208, 1448.8292131046226, -145.6748973919427, -190.9602883723055, -16.02646119303347, -11.898361343380815]\n",
      "[-3538.533668680031, 266.72138386608503, 453.5307590532344, 73.82116861489203, 362.6400749385477, 4.1237536546084375, 131.40818836535314, 102.08229858944688]\n",
      "[-119.58131037481145 20.85363210464338 12.703703636572708 2.034992302532026 8.775685029096438 -8.515683432646878 0.5852160926133113 6.319414449725505; 8.295446423147625 8.570875849389601 -4.311905198399916 5.442366657727874 5.9791009511705555 0.40774650882710556 0.1025475747575394 0.6607971676962945; 2.245709515985186 0.10642737895944776 5.740478662309194 11.917595507993815 2.777572709286531 3.2010114335006503 -0.3386936092483798 0.31649024281640137; -8.71427373543743 -4.997298771326038 -6.084523346832303 -9.376109820500405 -2.279420233865055 5.198089265860709 0.3980114383333309 0.30888166504280484; -4.599490290496854 -0.18955076360371015 24.7515934573425 0.3393821382940245 10.969276895001443 -8.68530568317868 -0.2321930401161927 -4.605897172939127; -9.035224004794792 36.627143431461086 -14.260833253080493 -1.6693070461708133 0.808380861162862 0.008123920399472642 -0.01441327789641092 1.292046807945419; -35.559315954279036 24.003721530093134 5.63313458681967 4.412334526507478 0.11062149936655921 -10.578646976167931 0.8323556900986206 -0.12041039235151846; -18.596714947701685 2.5697433084474324 16.757274121689726 1.11925810915872 15.866211231991766 10.513123177310888 -0.4011670275295379 2.4028162218396334]\n",
      "[-166.74764079896042 748.7141364919775 59.378819736672654 213.04952202698715 78.0206140183799 -147.2556488732678 -0.09971549687438941 80.69992347899259; 18.57620495962965 143.38003116900506 -23.093480372427564 529.7752859429477 29.577769809645055 3.2152662834303536 2.3335383642114165 5.653145002576422; 743.072977084706 7.330584442072799 150.84884232355165 -51.0609373172883 32.54124318901704 41.27252408730166 12.561459354749719 -26.069647593901358; 25.854557453756726 -448.1652731282101 -128.69154033672248 479.9028911302149 -35.06628780540874 31.883954580154107 87.20086641110045 7.0798925292921915; 156.2536400118017 44.54052223975468 210.54616470659295 7.815774975127443 106.53909562161458 -150.52137585047964 11.060890778556631 28.724190556801123; -61.49025312004479 642.2190665866474 -73.8738394416529 7.47763894271269 7.495088899569001 0.08248382169263477 -0.13415710837300757 23.520633372746147; -562.3969252945958 594.6088300281885 37.45199282903516 -104.32725271582026 1.1312161990547769 -101.32167203360798 30.200346643125286 -0.05767731557619493; -293.97030041257005 32.182610611204964 307.2577532004433 30.6965692170608 234.97378456846846 298.18464665104193 -3.7303150885937693 10.135672765411844]\n",
      "[-8938.905901754648 -460.9977800171576 -63.759259309232206 -1919.2589930197537 -19.247341632198417 26.44093807377055 0.612797072101138 -26.80117846279942; 9323.27881626054 -131.5723164413554 24.762794158823453 -1896.120825031312 -11.759040014428031 -7.602747861988689 -1.0775626158264138 -2.4645338116510587; 8003.052172735382 -2327.104473666368 -115.03808273645753 3044.9293774643133 -10.468034976497286 -43.98886621364828 -66.8493649465582 26.13942400049633; -268.85770466325624 1512.7127815460403 103.38945450605216 -2315.653200582005 39.137437658811024 -77.56269067567996 -34.636125761915565 -1.1019603083091194; 7897.525480587299 -2684.4377686769844 -155.76410665725308 3041.403074368425 -73.15423297328624 67.15024764898143 -82.19331874722621 -32.603515133011086; 33.77755085247762 -127.71403874459878 108.16255629695172 -3.9377574746369874 -4.097510099312851 -1.8670647341022006 0.061793714451142984 -3.1441057108125072; -8398.294505809643 -1723.0029158628645 -7.391148364759704 2890.2505103851645 -0.758934575582918 63.97749814055606 -9.519240916211812 -0.09715398867371572; 66.12238934128055 -108.31539044493636 -67.99113764384919 -6.340302029545259 -75.73866799509958 -91.8606295238125 3.785652537967572 -4.845694341389173]\n",
      "[70.83679445205844 -25.525713984002223 0.0 0.0 0.0 0.0 0.0 0.0; 39.45540284288148 69.27919613445486 0.0 0.0 0.0 0.0 0.0 0.0]\n",
      "[-4680.830899474379 -209.4325273044355 0.0 0.0 0.0 0.0 0.0 0.0; 2186.346350277684 -1119.2361088871094 0.0 0.0 0.0 0.0 0.0 0.0]\n",
      "[4323.2985319777345 650.658640169538 0.0 0.0 0.0 0.0 0.0 0.0; 356.6340313223194 2763.33434024074 0.0 0.0 0.0 0.0 0.0 0.0]\n",
      "[3910.4904254353582 317.7569194221196]\n",
      "[4890.263426778814 -1067.1102413905744]\n",
      "[2607.26115678808]\n",
      "[420.0553682728451]\n"
     ]
    }
   ],
   "source": [
    "for p in grads\n",
    "    println(p)\n",
    "end"
   ]
  },
  {
   "cell_type": "code",
   "execution_count": 134,
   "metadata": {},
   "outputs": [],
   "source": [
    "#opt = Flux.ADAM()\n",
    "#ps = Flux.params(LTC)\n",
    "#Flux.Optimise.update!(opt, ps, grads)"
   ]
  },
  {
   "cell_type": "markdown",
   "metadata": {},
   "source": [
    "### Training "
   ]
  },
  {
   "cell_type": "code",
   "execution_count": 30,
   "metadata": {},
   "outputs": [
    {
     "data": {
      "text/plain": [
       "Params([[0.3734729720015798, 0.2638579609056035, 0.9887018041539819, 0.4903685483259179, 0.4257860662107646, 0.38038523769239585, 0.28766801561709426, 0.11896739387226656], [0.09586319807143717, 0.1885520813751425, 0.0773888019503427, 0.11700888511408003, 0.11178705538779926, 0.08891330864897445, -0.1783959767918323, 0.19100183014188366], [0.5780368747823073, 0.5668148707727318, 0.4152898116948849, 0.44351697843176724, 0.43342694742003823, 0.4521293449266846, 0.4075253979742589, 0.5194033904332084], [3.267623866929129 6.4508961095774175 … 3.7622758756686165 4.177353312403776; 4.807545377219743 6.242160101284214 … 3.5391954074632066 5.8604902322702666; … ; 3.6840595216906142 5.1444454093802126 … 6.925972110231944 7.888924375685006; 6.315425657566083 5.6468205045352144 … 4.796993254526409 3.5901187637344796], [0.570080236974082 0.4129408079904198 … 0.434898923623856 0.3440127146745782; 0.6485399389275857 0.4265162363240174 … 0.7511337276283023 0.6951249045728083; … ; 0.5506673657901531 0.7215716662303353 … 0.594357892348788 0.6865912137037748; 0.4694590427147049 0.51754331363057 … 0.5122398867425342 0.7752373146988618], [0.7583910131969738 0.3645149635043097 … 0.4513398492695724 0.890676883549668; 0.32101447120608023 0.22111059911947 … 0.6982562265397173 0.3980187288950758; … ; 0.9504129130264819 0.9202361733103603 … 0.5093852781157482 0.7126878705209062; 0.7666722103413846 0.057151459250715825 … 0.22611085809156686 0.6052608680758749], [7.383485176722127 3.273898120667374 … 3.5723798738234898 3.3525658966548297; 6.842713155016188 5.253715512131691 … 6.694102973853235 4.287011572736164], [0.7131524388333172 0.6345271226819209 … 0.617777957594303 0.5177265861979894; 0.47104728508592003 0.6376440456504868 … 0.5721056772240027 0.5628665207705807], [0.6421385362764643 0.12878631299189539 … 0.8150217203103068 0.33431702070919633; 0.6599609510519789 0.5120846799868244 … 0.9564832725186233 0.07126680471922478], [1.0 1.0], [0.0 0.0], [1.0], [0.0]])"
      ]
     },
     "execution_count": 30,
     "metadata": {},
     "output_type": "execute_result"
    }
   ],
   "source": [
    "ps = Flux.params(LTC)"
   ]
  },
  {
   "cell_type": "code",
   "execution_count": 36,
   "metadata": {},
   "outputs": [
    {
     "data": {
      "text/plain": [
       "ADAM(0.01, (0.9, 0.999), IdDict{Any,Any}())"
      ]
     },
     "execution_count": 36,
     "metadata": {},
     "output_type": "execute_result"
    }
   ],
   "source": [
    "# use the ADAM optimizer. It's a pretty good one!\n",
    "opt = Flux.ADAM(0.01) # 0.01 is autors' lr "
   ]
  },
  {
   "cell_type": "code",
   "execution_count": 50,
   "metadata": {},
   "outputs": [],
   "source": [
    "# callback = function (;doplot=false) #callback function to observe training\n",
    "#   #pred = predict_n_ode()\n",
    "#   display(loss(x, y))\n",
    "#   # plot current prediction against data\n",
    "#   #pl = scatter(t,y,label=\"data\")\n",
    "#   scatter!(pl,t, LTC(x) ,label=\"prediction\")\n",
    "#   #display(plot(pl))\n",
    "#   return false\n",
    "# end"
   ]
  },
  {
   "cell_type": "code",
   "execution_count": 53,
   "metadata": {},
   "outputs": [
    {
     "name": "stdout",
     "output_type": "stream",
     "text": [
      "Again we need slice(((\n",
      "!oups\n",
      "Again we need slice(((\n",
      "!oups\n",
      "Again we need slice(((\n",
      "!oups\n",
      "Again we need slice(((\n",
      "!oups\n",
      "Again we need slice(((\n",
      "!oups\n",
      "Again we need slice(((\n",
      "!oups\n",
      "Again we need slice(((\n",
      "!oups\n",
      "Again we need slice(((\n",
      "!oups\n",
      "Again we need slice(((\n",
      "!oups\n",
      "Again we need slice(((\n",
      "!oups\n",
      "Again we need slice(((\n",
      "!oups\n",
      "Again we need slice(((\n",
      "!oups\n",
      "Again we need slice(((\n",
      "!oups\n",
      "Again we need slice(((\n",
      "!oups\n",
      "Again we need slice(((\n",
      "!oups\n",
      "Again we need slice(((\n",
      "!oups\n",
      "Again we need slice(((\n",
      "!oups\n",
      "Again we need slice(((\n",
      "!oups\n",
      "Again we need slice(((\n",
      "!oups\n",
      "Again we need slice(((\n",
      "!oups\n",
      "Again we need slice(((\n",
      "!oups\n",
      "Again we need slice(((\n",
      "!oups\n",
      "Again we need slice(((\n",
      "!oups\n",
      "Again we need slice(((\n",
      "!oups\n",
      "Again we need slice(((\n",
      "!oups\n",
      "Again we need slice(((\n",
      "!oups\n",
      "Again we need slice(((\n",
      "!oups\n",
      "Again we need slice(((\n",
      "!oups\n",
      "Again we need slice(((\n",
      "!oups\n",
      "Again we need slice(((\n",
      "!oups\n",
      "Again we need slice(((\n",
      "!oups\n",
      "Again we need slice(((\n",
      "!oups\n",
      "Again we need slice(((\n",
      "!oups\n",
      "Again we need slice(((\n",
      "!oups\n",
      "Again we need slice(((\n",
      "!oups\n",
      "Again we need slice(((\n",
      "!oups\n",
      "Again we need slice(((\n",
      "!oups\n",
      "Again we need slice(((\n",
      "!oups\n",
      "Again we need slice(((\n",
      "!oups\n",
      "Again we need slice(((\n",
      "!oups\n",
      "Again we need slice(((\n",
      "!oups\n",
      "Again we need slice(((\n",
      "!oups\n",
      "Again we need slice(((\n",
      "!oups\n",
      "Again we need slice(((\n",
      "!oups\n",
      "Again we need slice(((\n",
      "!oups\n",
      "Again we need slice(((\n",
      "!oups\n",
      "Again we need slice(((\n",
      "!oups\n",
      "Again we need slice(((\n",
      "!oups\n",
      "Flux.reset!(LTC) = [0.0 0.0 0.0 0.0 0.0 0.0 0.0 0.0]\n",
      "loss(x, y) = 12.736230963794522\n"
     ]
    },
    {
     "data": {
      "text/plain": [
       "12.736230963794522"
      ]
     },
     "metadata": {},
     "output_type": "display_data"
    },
    {
     "name": "stdout",
     "output_type": "stream",
     "text": [
      "Again we need slice(((\n",
      "!oups\n",
      "Again we need slice(((\n",
      "!oups\n",
      "Again we need slice(((\n",
      "!oups\n",
      "Again we need slice(((\n",
      "!oups\n",
      "Again we need slice(((\n",
      "!oups\n",
      "Again we need slice(((\n",
      "!oups\n",
      "Again we need slice(((\n",
      "!oups\n",
      "Again we need slice(((\n",
      "!oups\n",
      "Again we need slice(((\n",
      "!oups\n",
      "Again we need slice(((\n",
      "!oups\n",
      "Again we need slice(((\n",
      "!oups\n",
      "Again we need slice(((\n",
      "!oups\n",
      "Again we need slice(((\n",
      "!oups\n",
      "Again we need slice(((\n",
      "!oups\n",
      "Again we need slice(((\n",
      "!oups\n",
      "Again we need slice(((\n",
      "!oups\n",
      "Again we need slice(((\n",
      "!oups\n",
      "Again we need slice(((\n",
      "!oups\n",
      "Again we need slice(((\n",
      "!oups\n",
      "Again we need slice(((\n",
      "!oups\n",
      "Again we need slice(((\n",
      "!oups\n",
      "Again we need slice(((\n",
      "!oups\n",
      "Again we need slice(((\n",
      "!oups\n",
      "Again we need slice(((\n",
      "!oups\n",
      "Again we need slice(((\n",
      "!oups\n",
      "Again we need slice(((\n",
      "!oups\n",
      "Again we need slice(((\n",
      "!oups\n",
      "Again we need slice(((\n",
      "!oups\n",
      "Again we need slice(((\n",
      "!oups\n",
      "Again we need slice(((\n",
      "!oups\n",
      "Again we need slice(((\n",
      "!oups\n",
      "Again we need slice(((\n",
      "!oups\n",
      "Again we need slice(((\n",
      "!oups\n",
      "Again we need slice(((\n",
      "!oups\n",
      "Again we need slice(((\n",
      "!oups\n",
      "Again we need slice(((\n",
      "!oups\n",
      "Again we need slice(((\n",
      "!oups\n",
      "Again we need slice(((\n",
      "!oups\n",
      "Again we need slice(((\n",
      "!oups\n",
      "Again we need slice(((\n",
      "!oups\n",
      "Again we need slice(((\n",
      "!oups\n",
      "Again we need slice(((\n",
      "!oups\n",
      "Again we need slice(((\n",
      "!oups\n",
      "Again we need slice(((\n",
      "!oups\n",
      "Again we need slice(((\n",
      "!oups\n",
      "Again we need slice(((\n",
      "!oups\n",
      "Again we need slice(((\n",
      "!oups\n",
      "Again we need slice(((\n",
      "!oups\n",
      "Flux.reset!(LTC) = [0.0 0.0 0.0 0.0 0.0 0.0 0.0 0.0]\n",
      "Again we need slice(((\n",
      "!oups\n",
      "Again we need slice(((\n",
      "!oups\n",
      "Again we need slice(((\n",
      "!oups\n",
      "Again we need slice(((\n",
      "!oups\n",
      "Again we need slice(((\n",
      "!oups\n",
      "Again we need slice(((\n",
      "!oups\n",
      "Again we need slice(((\n",
      "!oups\n",
      "Again we need slice(((\n",
      "!oups\n",
      "Again we need slice(((\n",
      "!oups\n",
      "Again we need slice(((\n",
      "!oups\n",
      "Again we need slice(((\n",
      "!oups\n",
      "Again we need slice(((\n",
      "!oups\n",
      "Again we need slice(((\n",
      "!oups\n",
      "Again we need slice(((\n",
      "!oups\n",
      "Again we need slice(((\n",
      "!oups\n",
      "Again we need slice(((\n",
      "!oups\n",
      "Again we need slice(((\n",
      "!oups\n",
      "Again we need slice(((\n",
      "!oups\n",
      "Again we need slice(((\n",
      "!oups\n",
      "Again we need slice(((\n",
      "!oups\n",
      "Again we need slice(((\n",
      "!oups\n",
      "Again we need slice(((\n",
      "!oups\n",
      "Again we need slice(((\n",
      "!oups\n",
      "Again we need slice(((\n",
      "!oups\n",
      "Again we need slice(((\n",
      "!oups\n",
      "Again we need slice(((\n",
      "!oups\n",
      "Again we need slice(((\n",
      "!oups\n",
      "Again we need slice(((\n",
      "!oups\n",
      "Again we need slice(((\n",
      "!oups\n",
      "Again we need slice(((\n",
      "!oups\n",
      "Again we need slice(((\n",
      "!oups\n",
      "Again we need slice(((\n",
      "!oups\n",
      "Again we need slice(((\n",
      "!oups\n",
      "Again we need slice(((\n",
      "!oups\n",
      "Again we need slice(((\n",
      "!oups\n",
      "Again we need slice(((\n",
      "!oups\n",
      "Again we need slice(((\n",
      "!oups\n",
      "Again we need slice(((\n",
      "!oups\n",
      "Again we need slice(((\n",
      "!oups\n",
      "Again we need slice(((\n",
      "!oups\n",
      "Again we need slice(((\n",
      "!oups\n",
      "Again we need slice(((\n",
      "!oups\n",
      "Again we need slice(((\n",
      "!oups\n",
      "Again we need slice(((\n",
      "!oups\n",
      "Again we need slice(((\n",
      "!oups\n",
      "Again we need slice(((\n",
      "!oups\n",
      "Again we need slice(((\n",
      "!oups\n",
      "Again we need slice(((\n",
      "!oups\n",
      "Flux.reset!(LTC) = [0.0 0.0 0.0 0.0 0.0 0.0 0.0 0.0]\n",
      "loss(x, y) = 12.736230963794522\n",
      "Again we need slice(((\n",
      "!oups\n",
      "Again we need slice(((\n",
      "!oups\n",
      "Again we need slice(((\n",
      "!oups\n",
      "Again we need slice(((\n",
      "!oups\n",
      "Again we need slice(((\n",
      "!oups\n",
      "Again we need slice(((\n",
      "!oups\n",
      "Again we need slice(((\n",
      "!oups\n",
      "Again we need slice(((\n",
      "!oups\n",
      "Again we need slice(((\n",
      "!oups\n",
      "Again we need slice(((\n",
      "!oups\n",
      "Again we need slice(((\n",
      "!oups\n",
      "Again we need slice(((\n",
      "!oups\n",
      "Again we need slice(((\n",
      "!oups\n",
      "Again we need slice(((\n",
      "!oups\n",
      "Again we need slice(((\n",
      "!oups\n",
      "Again we need slice(((\n",
      "!oups\n",
      "Again we need slice(((\n",
      "!oups\n",
      "Again we need slice(((\n",
      "!oups\n",
      "Again we need slice(((\n",
      "!oups\n",
      "Again we need slice(((\n",
      "!oups\n",
      "Again we need slice(((\n",
      "!oups\n",
      "Again we need slice(((\n",
      "!oups\n",
      "Again we need slice(((\n",
      "!oups\n",
      "Again we need slice(((\n",
      "!oups\n",
      "Again we need slice(((\n",
      "!oups\n",
      "Again we need slice(((\n",
      "!oups\n",
      "Again we need slice(((\n",
      "!oups\n",
      "Again we need slice(((\n",
      "!oups\n",
      "Again we need slice(((\n",
      "!oups\n",
      "Again we need slice(((\n",
      "!oups\n",
      "Again we need slice(((\n",
      "!oups\n",
      "Again we need slice(((\n",
      "!oups\n",
      "Again we need slice(((\n",
      "!oups\n",
      "Again we need slice(((\n",
      "!oups\n",
      "Again we need slice(((\n",
      "!oups\n",
      "Again we need slice(((\n",
      "!oups\n",
      "Again we need slice(((\n",
      "!oups\n",
      "Again we need slice(((\n",
      "!oups\n",
      "Again we need slice(((\n",
      "!oups\n",
      "Again we need slice(((\n",
      "!oups\n",
      "Again we need slice(((\n",
      "!oups\n",
      "Again we need slice(((\n",
      "!oups\n",
      "Again we need slice(((\n",
      "!oups\n",
      "Again we need slice(((\n",
      "!oups\n",
      "Again we need slice(((\n",
      "!oups\n",
      "Again we need slice(((\n",
      "!oups\n",
      "Again we need slice(((\n",
      "!oups\n",
      "Again we need slice(((\n",
      "!oups\n",
      "Flux.reset!(LTC) = [0.0 0.0 0.0 0.0 0.0 0.0 0.0 0.0]\n",
      "loss(x, y) = 12.736230963794522\n",
      "Again we need slice(((\n",
      "!oups\n",
      "Again we need slice(((\n",
      "!oups\n",
      "Again we need slice(((\n",
      "!oups\n",
      "Again we need slice(((\n",
      "!oups\n",
      "Again we need slice(((\n",
      "!oups\n",
      "Again we need slice(((\n",
      "!oups\n",
      "Again we need slice(((\n",
      "!oups\n",
      "Again we need slice(((\n",
      "!oups\n",
      "Again we need slice(((\n",
      "!oups\n",
      "Again we need slice(((\n",
      "!oups\n",
      "Again we need slice(((\n",
      "!oups\n",
      "Again we need slice(((\n",
      "!oups\n",
      "Again we need slice(((\n",
      "!oups\n",
      "Again we need slice(((\n",
      "!oups\n",
      "Again we need slice(((\n",
      "!oups\n",
      "Again we need slice(((\n",
      "!oups\n",
      "Again we need slice(((\n",
      "!oups\n",
      "Again we need slice(((\n",
      "!oups\n",
      "Again we need slice(((\n",
      "!oups\n",
      "Again we need slice(((\n",
      "!oups\n",
      "Again we need slice(((\n",
      "!oups\n",
      "Again we need slice(((\n",
      "!oups\n",
      "Again we need slice(((\n",
      "!oups\n",
      "Again we need slice(((\n",
      "!oups\n",
      "Again we need slice(((\n",
      "!oups\n",
      "Again we need slice(((\n",
      "!oups\n",
      "Again we need slice(((\n",
      "!oups\n",
      "Again we need slice(((\n",
      "!oups\n",
      "Again we need slice(((\n",
      "!oups\n",
      "Again we need slice(((\n",
      "!oups\n",
      "Again we need slice(((\n",
      "!oups\n",
      "Again we need slice(((\n",
      "!oups\n",
      "Again we need slice(((\n",
      "!oups\n",
      "Again we need slice(((\n",
      "!oups\n",
      "Again we need slice(((\n",
      "!oups\n",
      "Again we need slice(((\n",
      "!oups\n",
      "Again we need slice(((\n",
      "!oups\n",
      "Again we need slice(((\n",
      "!oups\n",
      "Again we need slice(((\n",
      "!oups\n",
      "Again we need slice(((\n",
      "!oups\n",
      "Again we need slice(((\n",
      "!oups\n",
      "Again we need slice(((\n",
      "!oups\n",
      "Again we need slice(((\n",
      "!oups\n",
      "Again we need slice(((\n",
      "!oups\n",
      "Again we need slice(((\n",
      "!oups\n",
      "Again we need slice(((\n",
      "!oups\n",
      "Again we need slice(((\n",
      "!oups\n",
      "Again we need slice(((\n",
      "!oups\n",
      "Flux.reset!(LTC) = [0.0 0.0 0.0 0.0 0.0 0.0 0.0 0.0]\n",
      "loss(x, y) = 12.736230963794522\n"
     ]
    }
   ],
   "source": [
    "#callback() = println(\"Loss NCP-LTC = $(loss(data, target,))\")\n",
    "x = data_x\n",
    "y = data_y\n",
    "epochs = 4\n",
    "for epoch in 1:epochs\n",
    "    gs = Flux.gradient(ps) do\n",
    "        @show loss(x, y)\n",
    "    end\n",
    "    #@show epoch\n",
    "    #@show Flux.Optimise.update!(opt, ps, gs)\n",
    "    # clip some weights\n",
    "    apply_weight_constraints(LTC)\n",
    "    #@show ps\n",
    "    if epoch % 100 == 1\n",
    "        callback()\n",
    "    end\n",
    "end\n",
    "#callback()"
   ]
  },
  {
   "cell_type": "code",
   "execution_count": 54,
   "metadata": {},
   "outputs": [
    {
     "name": "stdout",
     "output_type": "stream",
     "text": [
      "Again we need slice(((\n",
      "!oups\n",
      "Again we need slice(((\n",
      "!oups\n",
      "Again we need slice(((\n",
      "!oups\n",
      "Again we need slice(((\n",
      "!oups\n",
      "Again we need slice(((\n",
      "!oups\n",
      "Again we need slice(((\n",
      "!oups\n",
      "Again we need slice(((\n",
      "!oups\n",
      "Again we need slice(((\n",
      "!oups\n",
      "Again we need slice(((\n",
      "!oups\n",
      "Again we need slice(((\n",
      "!oups\n",
      "Again we need slice(((\n",
      "!oups\n",
      "Again we need slice(((\n",
      "!oups\n",
      "Again we need slice(((\n",
      "!oups\n",
      "Again we need slice(((\n",
      "!oups\n",
      "Again we need slice(((\n",
      "!oups\n",
      "Again we need slice(((\n",
      "!oups\n",
      "Again we need slice(((\n",
      "!oups\n",
      "Again we need slice(((\n",
      "!oups\n",
      "Again we need slice(((\n",
      "!oups\n",
      "Again we need slice(((\n",
      "!oups\n",
      "Again we need slice(((\n",
      "!oups\n",
      "Again we need slice(((\n",
      "!oups\n",
      "Again we need slice(((\n",
      "!oups\n",
      "Again we need slice(((\n",
      "!oups\n",
      "Again we need slice(((\n",
      "!oups\n",
      "Again we need slice(((\n",
      "!oups\n",
      "Again we need slice(((\n",
      "!oups\n",
      "Again we need slice(((\n",
      "!oups\n",
      "Again we need slice(((\n",
      "!oups\n",
      "Again we need slice(((\n",
      "!oups\n",
      "Again we need slice(((\n",
      "!oups\n",
      "Again we need slice(((\n",
      "!oups\n",
      "Again we need slice(((\n",
      "!oups\n",
      "Again we need slice(((\n",
      "!oups\n",
      "Again we need slice(((\n",
      "!oups\n",
      "Again we need slice(((\n",
      "!oups\n",
      "Again we need slice(((\n",
      "!oups\n",
      "Again we need slice(((\n",
      "!oups\n",
      "Again we need slice(((\n",
      "!oups\n",
      "Again we need slice(((\n",
      "!oups\n",
      "Again we need slice(((\n",
      "!oups\n",
      "Again we need slice(((\n",
      "!oups\n",
      "Again we need slice(((\n",
      "!oups\n",
      "Again we need slice(((\n",
      "!oups\n",
      "Again we need slice(((\n",
      "!oups\n",
      "Again we need slice(((\n",
      "!oups\n",
      "Again we need slice(((\n",
      "!oups\n",
      "Again we need slice(((\n",
      "!oups\n",
      "Flux.reset!(LTC) = [0.0 0.0 0.0 0.0 0.0 0.0 0.0 0.0]\n"
     ]
    },
    {
     "data": {
      "image/svg+xml": [
       "<?xml version=\"1.0\" encoding=\"utf-8\"?>\n",
       "<svg xmlns=\"http://www.w3.org/2000/svg\" xmlns:xlink=\"http://www.w3.org/1999/xlink\" width=\"600\" height=\"400\" viewBox=\"0 0 2400 1600\">\n",
       "<defs>\n",
       "  <clipPath id=\"clip450\">\n",
       "    <rect x=\"0\" y=\"0\" width=\"2400\" height=\"1600\"/>\n",
       "  </clipPath>\n",
       "</defs>\n",
       "<path clip-path=\"url(#clip450)\" d=\"\n",
       "M0 1600 L2400 1600 L2400 0 L0 0  Z\n",
       "  \" fill=\"#ffffff\" fill-rule=\"evenodd\" fill-opacity=\"1\"/>\n",
       "<defs>\n",
       "  <clipPath id=\"clip451\">\n",
       "    <rect x=\"480\" y=\"0\" width=\"1681\" height=\"1600\"/>\n",
       "  </clipPath>\n",
       "</defs>\n",
       "<path clip-path=\"url(#clip450)\" d=\"\n",
       "M193.936 1486.45 L2352.76 1486.45 L2352.76 47.2441 L193.936 47.2441  Z\n",
       "  \" fill=\"#ffffff\" fill-rule=\"evenodd\" fill-opacity=\"1\"/>\n",
       "<defs>\n",
       "  <clipPath id=\"clip452\">\n",
       "    <rect x=\"193\" y=\"47\" width=\"2160\" height=\"1440\"/>\n",
       "  </clipPath>\n",
       "</defs>\n",
       "<polyline clip-path=\"url(#clip452)\" style=\"stroke:#000000; stroke-width:2; stroke-opacity:0.1; fill:none\" points=\"\n",
       "  211.702,1486.45 211.702,47.2441 \n",
       "  \"/>\n",
       "<polyline clip-path=\"url(#clip452)\" style=\"stroke:#000000; stroke-width:2; stroke-opacity:0.1; fill:none\" points=\"\n",
       "  645.026,1486.45 645.026,47.2441 \n",
       "  \"/>\n",
       "<polyline clip-path=\"url(#clip452)\" style=\"stroke:#000000; stroke-width:2; stroke-opacity:0.1; fill:none\" points=\"\n",
       "  1078.35,1486.45 1078.35,47.2441 \n",
       "  \"/>\n",
       "<polyline clip-path=\"url(#clip452)\" style=\"stroke:#000000; stroke-width:2; stroke-opacity:0.1; fill:none\" points=\"\n",
       "  1511.67,1486.45 1511.67,47.2441 \n",
       "  \"/>\n",
       "<polyline clip-path=\"url(#clip452)\" style=\"stroke:#000000; stroke-width:2; stroke-opacity:0.1; fill:none\" points=\"\n",
       "  1945,1486.45 1945,47.2441 \n",
       "  \"/>\n",
       "<polyline clip-path=\"url(#clip450)\" style=\"stroke:#000000; stroke-width:4; stroke-opacity:1; fill:none\" points=\"\n",
       "  193.936,1486.45 2352.76,1486.45 \n",
       "  \"/>\n",
       "<polyline clip-path=\"url(#clip450)\" style=\"stroke:#000000; stroke-width:4; stroke-opacity:1; fill:none\" points=\"\n",
       "  211.702,1486.45 211.702,1469.18 \n",
       "  \"/>\n",
       "<polyline clip-path=\"url(#clip450)\" style=\"stroke:#000000; stroke-width:4; stroke-opacity:1; fill:none\" points=\"\n",
       "  645.026,1486.45 645.026,1469.18 \n",
       "  \"/>\n",
       "<polyline clip-path=\"url(#clip450)\" style=\"stroke:#000000; stroke-width:4; stroke-opacity:1; fill:none\" points=\"\n",
       "  1078.35,1486.45 1078.35,1469.18 \n",
       "  \"/>\n",
       "<polyline clip-path=\"url(#clip450)\" style=\"stroke:#000000; stroke-width:4; stroke-opacity:1; fill:none\" points=\"\n",
       "  1511.67,1486.45 1511.67,1469.18 \n",
       "  \"/>\n",
       "<polyline clip-path=\"url(#clip450)\" style=\"stroke:#000000; stroke-width:4; stroke-opacity:1; fill:none\" points=\"\n",
       "  1945,1486.45 1945,1469.18 \n",
       "  \"/>\n",
       "<path clip-path=\"url(#clip450)\" d=\"M 0 0 M211.702 1515.64 Q208.091 1515.64 206.262 1519.2 Q204.457 1522.75 204.457 1529.87 Q204.457 1536.98 206.262 1540.55 Q208.091 1544.09 211.702 1544.09 Q215.337 1544.09 217.142 1540.55 Q218.971 1536.98 218.971 1529.87 Q218.971 1522.75 217.142 1519.2 Q215.337 1515.64 211.702 1515.64 M211.702 1511.93 Q217.512 1511.93 220.568 1516.54 Q223.647 1521.12 223.647 1529.87 Q223.647 1538.6 220.568 1543.21 Q217.512 1547.79 211.702 1547.79 Q205.892 1547.79 202.813 1543.21 Q199.758 1538.6 199.758 1529.87 Q199.758 1521.12 202.813 1516.54 Q205.892 1511.93 211.702 1511.93 Z\" fill=\"#000000\" fill-rule=\"evenodd\" fill-opacity=\"1\" /><path clip-path=\"url(#clip450)\" d=\"M 0 0 M619.714 1543.18 L627.353 1543.18 L627.353 1516.82 L619.043 1518.49 L619.043 1514.23 L627.306 1512.56 L631.982 1512.56 L631.982 1543.18 L639.621 1543.18 L639.621 1547.12 L619.714 1547.12 L619.714 1543.18 Z\" fill=\"#000000\" fill-rule=\"evenodd\" fill-opacity=\"1\" /><path clip-path=\"url(#clip450)\" d=\"M 0 0 M659.066 1515.64 Q655.454 1515.64 653.626 1519.2 Q651.82 1522.75 651.82 1529.87 Q651.82 1536.98 653.626 1540.55 Q655.454 1544.09 659.066 1544.09 Q662.7 1544.09 664.505 1540.55 Q666.334 1536.98 666.334 1529.87 Q666.334 1522.75 664.505 1519.2 Q662.7 1515.64 659.066 1515.64 M659.066 1511.93 Q664.876 1511.93 667.931 1516.54 Q671.01 1521.12 671.01 1529.87 Q671.01 1538.6 667.931 1543.21 Q664.876 1547.79 659.066 1547.79 Q653.255 1547.79 650.177 1543.21 Q647.121 1538.6 647.121 1529.87 Q647.121 1521.12 650.177 1516.54 Q653.255 1511.93 659.066 1511.93 Z\" fill=\"#000000\" fill-rule=\"evenodd\" fill-opacity=\"1\" /><path clip-path=\"url(#clip450)\" d=\"M 0 0 M1057.12 1543.18 L1073.44 1543.18 L1073.44 1547.12 L1051.5 1547.12 L1051.5 1543.18 Q1054.16 1540.43 1058.74 1535.8 Q1063.35 1531.15 1064.53 1529.81 Q1066.78 1527.28 1067.66 1525.55 Q1068.56 1523.79 1068.56 1522.1 Q1068.56 1519.34 1066.61 1517.61 Q1064.69 1515.87 1061.59 1515.87 Q1059.39 1515.87 1056.94 1516.63 Q1054.51 1517.4 1051.73 1518.95 L1051.73 1514.23 Q1054.55 1513.09 1057.01 1512.51 Q1059.46 1511.93 1061.5 1511.93 Q1066.87 1511.93 1070.06 1514.62 Q1073.26 1517.31 1073.26 1521.8 Q1073.26 1523.93 1072.45 1525.85 Q1071.66 1527.74 1069.55 1530.34 Q1068.98 1531.01 1065.87 1534.23 Q1062.77 1537.42 1057.12 1543.18 Z\" fill=\"#000000\" fill-rule=\"evenodd\" fill-opacity=\"1\" /><path clip-path=\"url(#clip450)\" d=\"M 0 0 M1093.26 1515.64 Q1089.65 1515.64 1087.82 1519.2 Q1086.01 1522.75 1086.01 1529.87 Q1086.01 1536.98 1087.82 1540.55 Q1089.65 1544.09 1093.26 1544.09 Q1096.89 1544.09 1098.7 1540.55 Q1100.53 1536.98 1100.53 1529.87 Q1100.53 1522.75 1098.7 1519.2 Q1096.89 1515.64 1093.26 1515.64 M1093.26 1511.93 Q1099.07 1511.93 1102.12 1516.54 Q1105.2 1521.12 1105.2 1529.87 Q1105.2 1538.6 1102.12 1543.21 Q1099.07 1547.79 1093.26 1547.79 Q1087.45 1547.79 1084.37 1543.21 Q1081.31 1538.6 1081.31 1529.87 Q1081.31 1521.12 1084.37 1516.54 Q1087.45 1511.93 1093.26 1511.93 Z\" fill=\"#000000\" fill-rule=\"evenodd\" fill-opacity=\"1\" /><path clip-path=\"url(#clip450)\" d=\"M 0 0 M1500.52 1528.49 Q1503.87 1529.2 1505.75 1531.47 Q1507.65 1533.74 1507.65 1537.07 Q1507.65 1542.19 1504.13 1544.99 Q1500.61 1547.79 1494.13 1547.79 Q1491.95 1547.79 1489.64 1547.35 Q1487.35 1546.93 1484.89 1546.08 L1484.89 1541.56 Q1486.84 1542.7 1489.15 1543.28 Q1491.47 1543.86 1493.99 1543.86 Q1498.39 1543.86 1500.68 1542.12 Q1502.99 1540.38 1502.99 1537.07 Q1502.99 1534.02 1500.84 1532.31 Q1498.71 1530.57 1494.89 1530.57 L1490.86 1530.57 L1490.86 1526.73 L1495.08 1526.73 Q1498.53 1526.73 1500.35 1525.36 Q1502.18 1523.97 1502.18 1521.38 Q1502.18 1518.72 1500.29 1517.31 Q1498.41 1515.87 1494.89 1515.87 Q1492.97 1515.87 1490.77 1516.29 Q1488.57 1516.7 1485.93 1517.58 L1485.93 1513.42 Q1488.6 1512.68 1490.91 1512.31 Q1493.25 1511.93 1495.31 1511.93 Q1500.63 1511.93 1503.73 1514.37 Q1506.84 1516.77 1506.84 1520.89 Q1506.84 1523.76 1505.19 1525.75 Q1503.55 1527.72 1500.52 1528.49 Z\" fill=\"#000000\" fill-rule=\"evenodd\" fill-opacity=\"1\" /><path clip-path=\"url(#clip450)\" d=\"M 0 0 M1526.51 1515.64 Q1522.9 1515.64 1521.07 1519.2 Q1519.27 1522.75 1519.27 1529.87 Q1519.27 1536.98 1521.07 1540.55 Q1522.9 1544.09 1526.51 1544.09 Q1530.15 1544.09 1531.95 1540.55 Q1533.78 1536.98 1533.78 1529.87 Q1533.78 1522.75 1531.95 1519.2 Q1530.15 1515.64 1526.51 1515.64 M1526.51 1511.93 Q1532.32 1511.93 1535.38 1516.54 Q1538.46 1521.12 1538.46 1529.87 Q1538.46 1538.6 1535.38 1543.21 Q1532.32 1547.79 1526.51 1547.79 Q1520.7 1547.79 1517.62 1543.21 Q1514.57 1538.6 1514.57 1529.87 Q1514.57 1521.12 1517.62 1516.54 Q1520.7 1511.93 1526.51 1511.93 Z\" fill=\"#000000\" fill-rule=\"evenodd\" fill-opacity=\"1\" /><path clip-path=\"url(#clip450)\" d=\"M 0 0 M1933.17 1516.63 L1921.36 1535.08 L1933.17 1535.08 L1933.17 1516.63 M1931.94 1512.56 L1937.82 1512.56 L1937.82 1535.08 L1942.75 1535.08 L1942.75 1538.97 L1937.82 1538.97 L1937.82 1547.12 L1933.17 1547.12 L1933.17 1538.97 L1917.57 1538.97 L1917.57 1534.46 L1931.94 1512.56 Z\" fill=\"#000000\" fill-rule=\"evenodd\" fill-opacity=\"1\" /><path clip-path=\"url(#clip450)\" d=\"M 0 0 M1960.48 1515.64 Q1956.87 1515.64 1955.04 1519.2 Q1953.24 1522.75 1953.24 1529.87 Q1953.24 1536.98 1955.04 1540.55 Q1956.87 1544.09 1960.48 1544.09 Q1964.12 1544.09 1965.92 1540.55 Q1967.75 1536.98 1967.75 1529.87 Q1967.75 1522.75 1965.92 1519.2 Q1964.12 1515.64 1960.48 1515.64 M1960.48 1511.93 Q1966.29 1511.93 1969.35 1516.54 Q1972.43 1521.12 1972.43 1529.87 Q1972.43 1538.6 1969.35 1543.21 Q1966.29 1547.79 1960.48 1547.79 Q1954.67 1547.79 1951.6 1543.21 Q1948.54 1538.6 1948.54 1529.87 Q1948.54 1521.12 1951.6 1516.54 Q1954.67 1511.93 1960.48 1511.93 Z\" fill=\"#000000\" fill-rule=\"evenodd\" fill-opacity=\"1\" /><polyline clip-path=\"url(#clip452)\" style=\"stroke:#000000; stroke-width:2; stroke-opacity:0.1; fill:none\" points=\"\n",
       "  193.936,1446.01 2352.76,1446.01 \n",
       "  \"/>\n",
       "<polyline clip-path=\"url(#clip452)\" style=\"stroke:#000000; stroke-width:2; stroke-opacity:0.1; fill:none\" points=\"\n",
       "  193.936,1182.58 2352.76,1182.58 \n",
       "  \"/>\n",
       "<polyline clip-path=\"url(#clip452)\" style=\"stroke:#000000; stroke-width:2; stroke-opacity:0.1; fill:none\" points=\"\n",
       "  193.936,919.143 2352.76,919.143 \n",
       "  \"/>\n",
       "<polyline clip-path=\"url(#clip452)\" style=\"stroke:#000000; stroke-width:2; stroke-opacity:0.1; fill:none\" points=\"\n",
       "  193.936,655.71 2352.76,655.71 \n",
       "  \"/>\n",
       "<polyline clip-path=\"url(#clip452)\" style=\"stroke:#000000; stroke-width:2; stroke-opacity:0.1; fill:none\" points=\"\n",
       "  193.936,392.277 2352.76,392.277 \n",
       "  \"/>\n",
       "<polyline clip-path=\"url(#clip452)\" style=\"stroke:#000000; stroke-width:2; stroke-opacity:0.1; fill:none\" points=\"\n",
       "  193.936,128.844 2352.76,128.844 \n",
       "  \"/>\n",
       "<polyline clip-path=\"url(#clip450)\" style=\"stroke:#000000; stroke-width:4; stroke-opacity:1; fill:none\" points=\"\n",
       "  193.936,1486.45 193.936,47.2441 \n",
       "  \"/>\n",
       "<polyline clip-path=\"url(#clip450)\" style=\"stroke:#000000; stroke-width:4; stroke-opacity:1; fill:none\" points=\"\n",
       "  193.936,1446.01 219.842,1446.01 \n",
       "  \"/>\n",
       "<polyline clip-path=\"url(#clip450)\" style=\"stroke:#000000; stroke-width:4; stroke-opacity:1; fill:none\" points=\"\n",
       "  193.936,1182.58 219.842,1182.58 \n",
       "  \"/>\n",
       "<polyline clip-path=\"url(#clip450)\" style=\"stroke:#000000; stroke-width:4; stroke-opacity:1; fill:none\" points=\"\n",
       "  193.936,919.143 219.842,919.143 \n",
       "  \"/>\n",
       "<polyline clip-path=\"url(#clip450)\" style=\"stroke:#000000; stroke-width:4; stroke-opacity:1; fill:none\" points=\"\n",
       "  193.936,655.71 219.842,655.71 \n",
       "  \"/>\n",
       "<polyline clip-path=\"url(#clip450)\" style=\"stroke:#000000; stroke-width:4; stroke-opacity:1; fill:none\" points=\"\n",
       "  193.936,392.277 219.842,392.277 \n",
       "  \"/>\n",
       "<polyline clip-path=\"url(#clip450)\" style=\"stroke:#000000; stroke-width:4; stroke-opacity:1; fill:none\" points=\"\n",
       "  193.936,128.844 219.842,128.844 \n",
       "  \"/>\n",
       "<path clip-path=\"url(#clip450)\" d=\"M 0 0 M50.9921 1446.46 L80.6679 1446.46 L80.6679 1450.4 L50.9921 1450.4 L50.9921 1446.46 Z\" fill=\"#000000\" fill-rule=\"evenodd\" fill-opacity=\"1\" /><path clip-path=\"url(#clip450)\" d=\"M 0 0 M91.5706 1459.35 L99.2095 1459.35 L99.2095 1432.99 L90.8993 1434.66 L90.8993 1430.4 L99.1632 1428.73 L103.839 1428.73 L103.839 1459.35 L111.478 1459.35 L111.478 1463.29 L91.5706 1463.29 L91.5706 1459.35 Z\" fill=\"#000000\" fill-rule=\"evenodd\" fill-opacity=\"1\" /><path clip-path=\"url(#clip450)\" d=\"M 0 0 M120.922 1457.41 L125.807 1457.41 L125.807 1463.29 L120.922 1463.29 L120.922 1457.41 Z\" fill=\"#000000\" fill-rule=\"evenodd\" fill-opacity=\"1\" /><path clip-path=\"url(#clip450)\" d=\"M 0 0 M145.992 1431.81 Q142.381 1431.81 140.552 1435.37 Q138.746 1438.92 138.746 1446.04 Q138.746 1453.15 140.552 1456.72 Q142.381 1460.26 145.992 1460.26 Q149.626 1460.26 151.431 1456.72 Q153.26 1453.15 153.26 1446.04 Q153.26 1438.92 151.431 1435.37 Q149.626 1431.81 145.992 1431.81 M145.992 1428.1 Q151.802 1428.1 154.857 1432.71 Q157.936 1437.29 157.936 1446.04 Q157.936 1454.77 154.857 1459.38 Q151.802 1463.96 145.992 1463.96 Q140.181 1463.96 137.103 1459.38 Q134.047 1454.77 134.047 1446.04 Q134.047 1437.29 137.103 1432.71 Q140.181 1428.1 145.992 1428.1 Z\" fill=\"#000000\" fill-rule=\"evenodd\" fill-opacity=\"1\" /><path clip-path=\"url(#clip450)\" d=\"M 0 0 M51.9875 1183.03 L81.6633 1183.03 L81.6633 1186.96 L51.9875 1186.96 L51.9875 1183.03 Z\" fill=\"#000000\" fill-rule=\"evenodd\" fill-opacity=\"1\" /><path clip-path=\"url(#clip450)\" d=\"M 0 0 M101.756 1168.38 Q98.1447 1168.38 96.316 1171.94 Q94.5104 1175.48 94.5104 1182.61 Q94.5104 1189.72 96.316 1193.28 Q98.1447 1196.82 101.756 1196.82 Q105.39 1196.82 107.196 1193.28 Q109.024 1189.72 109.024 1182.61 Q109.024 1175.48 107.196 1171.94 Q105.39 1168.38 101.756 1168.38 M101.756 1164.67 Q107.566 1164.67 110.621 1169.28 Q113.7 1173.86 113.7 1182.61 Q113.7 1191.34 110.621 1195.94 Q107.566 1200.53 101.756 1200.53 Q95.9456 1200.53 92.8669 1195.94 Q89.8114 1191.34 89.8114 1182.61 Q89.8114 1173.86 92.8669 1169.28 Q95.9456 1164.67 101.756 1164.67 Z\" fill=\"#000000\" fill-rule=\"evenodd\" fill-opacity=\"1\" /><path clip-path=\"url(#clip450)\" d=\"M 0 0 M121.918 1193.98 L126.802 1193.98 L126.802 1199.86 L121.918 1199.86 L121.918 1193.98 Z\" fill=\"#000000\" fill-rule=\"evenodd\" fill-opacity=\"1\" /><path clip-path=\"url(#clip450)\" d=\"M 0 0 M137.033 1165.3 L155.39 1165.3 L155.39 1169.23 L141.316 1169.23 L141.316 1177.7 Q142.334 1177.36 143.353 1177.19 Q144.371 1177.01 145.39 1177.01 Q151.177 1177.01 154.556 1180.18 Q157.936 1183.35 157.936 1188.77 Q157.936 1194.35 154.464 1197.45 Q150.992 1200.53 144.672 1200.53 Q142.496 1200.53 140.228 1200.16 Q137.982 1199.79 135.575 1199.05 L135.575 1194.35 Q137.658 1195.48 139.881 1196.04 Q142.103 1196.59 144.58 1196.59 Q148.584 1196.59 150.922 1194.49 Q153.26 1192.38 153.26 1188.77 Q153.26 1185.16 150.922 1183.05 Q148.584 1180.94 144.58 1180.94 Q142.705 1180.94 140.83 1181.36 Q138.978 1181.78 137.033 1182.66 L137.033 1165.3 Z\" fill=\"#000000\" fill-rule=\"evenodd\" fill-opacity=\"1\" /><path clip-path=\"url(#clip450)\" d=\"M 0 0 M100.76 904.942 Q97.1493 904.942 95.3206 908.507 Q93.515 912.049 93.515 919.178 Q93.515 926.285 95.3206 929.849 Q97.1493 933.391 100.76 933.391 Q104.395 933.391 106.2 929.849 Q108.029 926.285 108.029 919.178 Q108.029 912.049 106.2 908.507 Q104.395 904.942 100.76 904.942 M100.76 901.238 Q106.571 901.238 109.626 905.845 Q112.705 910.428 112.705 919.178 Q112.705 927.905 109.626 932.511 Q106.571 937.095 100.76 937.095 Q94.9502 937.095 91.8715 932.511 Q88.816 927.905 88.816 919.178 Q88.816 910.428 91.8715 905.845 Q94.9502 901.238 100.76 901.238 Z\" fill=\"#000000\" fill-rule=\"evenodd\" fill-opacity=\"1\" /><path clip-path=\"url(#clip450)\" d=\"M 0 0 M120.922 930.544 L125.807 930.544 L125.807 936.423 L120.922 936.423 L120.922 930.544 Z\" fill=\"#000000\" fill-rule=\"evenodd\" fill-opacity=\"1\" /><path clip-path=\"url(#clip450)\" d=\"M 0 0 M145.992 904.942 Q142.381 904.942 140.552 908.507 Q138.746 912.049 138.746 919.178 Q138.746 926.285 140.552 929.849 Q142.381 933.391 145.992 933.391 Q149.626 933.391 151.431 929.849 Q153.26 926.285 153.26 919.178 Q153.26 912.049 151.431 908.507 Q149.626 904.942 145.992 904.942 M145.992 901.238 Q151.802 901.238 154.857 905.845 Q157.936 910.428 157.936 919.178 Q157.936 927.905 154.857 932.511 Q151.802 937.095 145.992 937.095 Q140.181 937.095 137.103 932.511 Q134.047 927.905 134.047 919.178 Q134.047 910.428 137.103 905.845 Q140.181 901.238 145.992 901.238 Z\" fill=\"#000000\" fill-rule=\"evenodd\" fill-opacity=\"1\" /><path clip-path=\"url(#clip450)\" d=\"M 0 0 M101.756 641.509 Q98.1447 641.509 96.316 645.074 Q94.5104 648.615 94.5104 655.745 Q94.5104 662.851 96.316 666.416 Q98.1447 669.958 101.756 669.958 Q105.39 669.958 107.196 666.416 Q109.024 662.851 109.024 655.745 Q109.024 648.615 107.196 645.074 Q105.39 641.509 101.756 641.509 M101.756 637.805 Q107.566 637.805 110.621 642.412 Q113.7 646.995 113.7 655.745 Q113.7 664.472 110.621 669.078 Q107.566 673.661 101.756 673.661 Q95.9456 673.661 92.8669 669.078 Q89.8114 664.472 89.8114 655.745 Q89.8114 646.995 92.8669 642.412 Q95.9456 637.805 101.756 637.805 Z\" fill=\"#000000\" fill-rule=\"evenodd\" fill-opacity=\"1\" /><path clip-path=\"url(#clip450)\" d=\"M 0 0 M121.918 667.111 L126.802 667.111 L126.802 672.99 L121.918 672.99 L121.918 667.111 Z\" fill=\"#000000\" fill-rule=\"evenodd\" fill-opacity=\"1\" /><path clip-path=\"url(#clip450)\" d=\"M 0 0 M137.033 638.43 L155.39 638.43 L155.39 642.365 L141.316 642.365 L141.316 650.838 Q142.334 650.49 143.353 650.328 Q144.371 650.143 145.39 650.143 Q151.177 650.143 154.556 653.314 Q157.936 656.486 157.936 661.902 Q157.936 667.481 154.464 670.583 Q150.992 673.661 144.672 673.661 Q142.496 673.661 140.228 673.291 Q137.982 672.921 135.575 672.18 L135.575 667.481 Q137.658 668.615 139.881 669.171 Q142.103 669.726 144.58 669.726 Q148.584 669.726 150.922 667.62 Q153.26 665.513 153.26 661.902 Q153.26 658.291 150.922 656.185 Q148.584 654.078 144.58 654.078 Q142.705 654.078 140.83 654.495 Q138.978 654.912 137.033 655.791 L137.033 638.43 Z\" fill=\"#000000\" fill-rule=\"evenodd\" fill-opacity=\"1\" /><path clip-path=\"url(#clip450)\" d=\"M 0 0 M91.5706 405.622 L99.2095 405.622 L99.2095 379.256 L90.8993 380.923 L90.8993 376.664 L99.1632 374.997 L103.839 374.997 L103.839 405.622 L111.478 405.622 L111.478 409.557 L91.5706 409.557 L91.5706 405.622 Z\" fill=\"#000000\" fill-rule=\"evenodd\" fill-opacity=\"1\" /><path clip-path=\"url(#clip450)\" d=\"M 0 0 M120.922 403.677 L125.807 403.677 L125.807 409.557 L120.922 409.557 L120.922 403.677 Z\" fill=\"#000000\" fill-rule=\"evenodd\" fill-opacity=\"1\" /><path clip-path=\"url(#clip450)\" d=\"M 0 0 M145.992 378.076 Q142.381 378.076 140.552 381.64 Q138.746 385.182 138.746 392.312 Q138.746 399.418 140.552 402.983 Q142.381 406.525 145.992 406.525 Q149.626 406.525 151.431 402.983 Q153.26 399.418 153.26 392.312 Q153.26 385.182 151.431 381.64 Q149.626 378.076 145.992 378.076 M145.992 374.372 Q151.802 374.372 154.857 378.978 Q157.936 383.562 157.936 392.312 Q157.936 401.038 154.857 405.645 Q151.802 410.228 145.992 410.228 Q140.181 410.228 137.103 405.645 Q134.047 401.038 134.047 392.312 Q134.047 383.562 137.103 378.978 Q140.181 374.372 145.992 374.372 Z\" fill=\"#000000\" fill-rule=\"evenodd\" fill-opacity=\"1\" /><path clip-path=\"url(#clip450)\" d=\"M 0 0 M92.566 142.189 L100.205 142.189 L100.205 115.823 L91.8947 117.49 L91.8947 113.23 L100.159 111.564 L104.834 111.564 L104.834 142.189 L112.473 142.189 L112.473 146.124 L92.566 146.124 L92.566 142.189 Z\" fill=\"#000000\" fill-rule=\"evenodd\" fill-opacity=\"1\" /><path clip-path=\"url(#clip450)\" d=\"M 0 0 M121.918 140.244 L126.802 140.244 L126.802 146.124 L121.918 146.124 L121.918 140.244 Z\" fill=\"#000000\" fill-rule=\"evenodd\" fill-opacity=\"1\" /><path clip-path=\"url(#clip450)\" d=\"M 0 0 M137.033 111.564 L155.39 111.564 L155.39 115.499 L141.316 115.499 L141.316 123.971 Q142.334 123.624 143.353 123.462 Q144.371 123.277 145.39 123.277 Q151.177 123.277 154.556 126.448 Q157.936 129.619 157.936 135.036 Q157.936 140.614 154.464 143.716 Q150.992 146.795 144.672 146.795 Q142.496 146.795 140.228 146.425 Q137.982 146.054 135.575 145.313 L135.575 140.614 Q137.658 141.749 139.881 142.304 Q142.103 142.86 144.58 142.86 Q148.584 142.86 150.922 140.753 Q153.26 138.647 153.26 135.036 Q153.26 131.425 150.922 129.318 Q148.584 127.212 144.58 127.212 Q142.705 127.212 140.83 127.628 Q138.978 128.045 137.033 128.925 L137.033 111.564 Z\" fill=\"#000000\" fill-rule=\"evenodd\" fill-opacity=\"1\" /><polyline clip-path=\"url(#clip452)\" style=\"stroke:#009af9; stroke-width:4; stroke-opacity:1; fill:none\" points=\"\n",
       "  255.035,919.143 298.367,713.46 341.699,540.419 385.032,427.482 428.364,392.571 471.697,441.228 515.029,565.729 558.361,746.318 601.694,954.334 645.026,1156.77 \n",
       "  688.359,1321.49 731.691,1422.35 775.023,1443.36 818.356,1381.18 861.688,1245.67 905.021,1058.34 948.353,848.919 991.685,650.643 1035.02,494.979 1078.35,406.629 \n",
       "  1121.68,399.616 1165.01,475.052 1208.35,620.965 1251.68,814.199 1295.01,1024.09 1338.34,1217.32 1381.68,1363.24 1425.01,1438.67 1468.34,1431.66 1511.67,1343.31 \n",
       "  1555.01,1187.64 1598.34,989.368 1641.67,779.948 1685,592.618 1728.34,457.108 1771.67,394.923 1815,415.932 1858.33,516.801 1901.67,681.521 1945,883.953 \n",
       "  1988.33,1091.97 2031.66,1272.56 2075,1397.06 2118.33,1445.72 2161.66,1410.8 2204.99,1297.87 2248.32,1124.83 2291.66,919.143 \n",
       "  \"/>\n",
       "<polyline clip-path=\"url(#clip452)\" style=\"stroke:#e26f46; stroke-width:4; stroke-opacity:1; fill:none\" points=\"\n",
       "  255.035,864.253 298.367,859.81 341.699,733.84 385.032,324.2 428.364,87.9763 471.697,92.7632 515.029,348.158 558.361,705.059 601.694,1026.67 645.026,1267.77 \n",
       "  688.359,1412.47 731.691,1427.63 775.023,1318.81 818.356,1186.55 861.688,1103.77 905.021,1064.83 948.353,1033.56 991.685,976.191 1035.02,874.782 1078.35,738.189 \n",
       "  1121.68,614.148 1165.01,581.216 1208.35,680.432 1251.68,855.054 1295.01,1016.1 1338.34,1107.67 1381.68,1106.87 1425.01,1027.51 1468.34,923.805 1511.67,856.349 \n",
       "  1555.01,852.654 1598.34,898.771 1641.67,959.075 1685,1001.03 1728.34,1008.27 1771.67,984.056 1815,947.321 1858.33,920.629 1901.67,917.4 1945,937.678 \n",
       "  1988.33,973.526 2031.66,1017.49 2075,1066.22 2118.33,1115.72 2161.66,1155.72 2204.99,1175.35 2248.32,1170.43 2291.66,1137.85 \n",
       "  \"/>\n",
       "<path clip-path=\"url(#clip450)\" d=\"\n",
       "M1988.5 276.658 L2280.8 276.658 L2280.8 95.2176 L1988.5 95.2176  Z\n",
       "  \" fill=\"#ffffff\" fill-rule=\"evenodd\" fill-opacity=\"1\"/>\n",
       "<polyline clip-path=\"url(#clip450)\" style=\"stroke:#000000; stroke-width:4; stroke-opacity:1; fill:none\" points=\"\n",
       "  1988.5,276.658 2280.8,276.658 2280.8,95.2176 1988.5,95.2176 1988.5,276.658 \n",
       "  \"/>\n",
       "<polyline clip-path=\"url(#clip450)\" style=\"stroke:#009af9; stroke-width:4; stroke-opacity:1; fill:none\" points=\"\n",
       "  2012.48,155.698 2156.4,155.698 \n",
       "  \"/>\n",
       "<path clip-path=\"url(#clip450)\" d=\"M 0 0 M2194.23 175.385 Q2192.43 180.015 2190.72 181.427 Q2189 182.839 2186.13 182.839 L2182.73 182.839 L2182.73 179.274 L2185.23 179.274 Q2186.99 179.274 2187.96 178.44 Q2188.93 177.607 2190.11 174.505 L2190.88 172.561 L2180.39 147.052 L2184.91 147.052 L2193.01 167.329 L2201.11 147.052 L2205.62 147.052 L2194.23 175.385 Z\" fill=\"#000000\" fill-rule=\"evenodd\" fill-opacity=\"1\" /><path clip-path=\"url(#clip450)\" d=\"M 0 0 M2212.91 169.042 L2220.55 169.042 L2220.55 142.677 L2212.24 144.343 L2212.24 140.084 L2220.51 138.418 L2225.18 138.418 L2225.18 169.042 L2232.82 169.042 L2232.82 172.978 L2212.91 172.978 L2212.91 169.042 Z\" fill=\"#000000\" fill-rule=\"evenodd\" fill-opacity=\"1\" /><polyline clip-path=\"url(#clip450)\" style=\"stroke:#e26f46; stroke-width:4; stroke-opacity:1; fill:none\" points=\"\n",
       "  2012.48,216.178 2156.4,216.178 \n",
       "  \"/>\n",
       "<path clip-path=\"url(#clip450)\" d=\"M 0 0 M2194.23 235.865 Q2192.43 240.495 2190.72 241.907 Q2189 243.319 2186.13 243.319 L2182.73 243.319 L2182.73 239.754 L2185.23 239.754 Q2186.99 239.754 2187.96 238.92 Q2188.93 238.087 2190.11 234.985 L2190.88 233.041 L2180.39 207.532 L2184.91 207.532 L2193.01 227.809 L2201.11 207.532 L2205.62 207.532 L2194.23 235.865 Z\" fill=\"#000000\" fill-rule=\"evenodd\" fill-opacity=\"1\" /><path clip-path=\"url(#clip450)\" d=\"M 0 0 M2216.13 229.522 L2232.45 229.522 L2232.45 233.458 L2210.51 233.458 L2210.51 229.522 Q2213.17 226.768 2217.75 222.138 Q2222.36 217.485 2223.54 216.143 Q2225.78 213.62 2226.66 211.884 Q2227.57 210.124 2227.57 208.435 Q2227.57 205.68 2225.62 203.944 Q2223.7 202.208 2220.6 202.208 Q2218.4 202.208 2215.95 202.972 Q2213.52 203.735 2210.74 205.286 L2210.74 200.564 Q2213.56 199.43 2216.02 198.851 Q2218.47 198.273 2220.51 198.273 Q2225.88 198.273 2229.07 200.958 Q2232.27 203.643 2232.27 208.134 Q2232.27 210.263 2231.46 212.185 Q2230.67 214.083 2228.56 216.675 Q2227.98 217.347 2224.88 220.564 Q2221.78 223.759 2216.13 229.522 Z\" fill=\"#000000\" fill-rule=\"evenodd\" fill-opacity=\"1\" /></svg>\n"
      ]
     },
     "execution_count": 54,
     "metadata": {},
     "output_type": "execute_result"
    }
   ],
   "source": [
    "plot(data_y[1,:,1])\n",
    "plot!(forward_step(data_x)[1,:,1])"
   ]
  },
  {
   "cell_type": "markdown",
   "metadata": {},
   "source": [
    "Too long and not good"
   ]
  },
  {
   "cell_type": "code",
   "execution_count": 208,
   "metadata": {},
   "outputs": [],
   "source": [
    "# evalcb() = @show(sum(loss.(data_x, data_y)))\n",
    "# num_epochs = 10\n",
    "# Flux.@epochs num_epochs Flux.train!(loss, ps, zip(data_x, data_y), opt, cb = Flux.throttle(evalcb, 1))"
   ]
  },
  {
   "cell_type": "raw",
   "metadata": {},
   "source": [
    "# interactive plots and callbacks\n",
    "https://github.com/SciML/DiffEqFlux.jl/blob/master/docs/src/examples/neural_ode_flux.md"
   ]
  },
  {
   "cell_type": "markdown",
   "metadata": {},
   "source": [
    "add train! and other methods for this\n",
    "\n"
   ]
  },
  {
   "cell_type": "markdown",
   "metadata": {
    "heading_collapsed": true
   },
   "source": [
    "# Grad test"
   ]
  },
  {
   "cell_type": "code",
   "execution_count": 113,
   "metadata": {
    "hidden": true
   },
   "outputs": [
    {
     "name": "stdout",
     "output_type": "stream",
     "text": [
      "wiring = FullyConnected(8, [1.0 1.0 1.0 1.0 1.0 -1.0 -1.0 -1.0; 1.0 1.0 -1.0 -1.0 1.0 -1.0 1.0 1.0; 1.0 1.0 1.0 1.0 1.0 1.0 1.0 1.0; -1.0 -1.0 1.0 -1.0 1.0 -1.0 1.0 1.0; -1.0 -1.0 1.0 -1.0 -1.0 -1.0 -1.0 1.0; 1.0 1.0 1.0 1.0 1.0 -1.0 1.0 -1.0; -1.0 1.0 -1.0 -1.0 1.0 1.0 1.0 -1.0; 1.0 1.0 1.0 1.0 1.0 1.0 1.0 -1.0], [0.0 0.0 0.0 0.0 0.0 0.0 0.0 0.0; 0.0 0.0 0.0 0.0 0.0 0.0 0.0 0.0], 2, 1, true)\n",
      "polarity = 1\n",
      "polarity = -1\n",
      "polarity = -1\n",
      "polarity = -1\n",
      "ltc.input_b = [0.0 0.0]\n",
      "Again we need slice(((\n",
      "!oups\n"
     ]
    },
    {
     "data": {
      "text/plain": [
       "1×1 Array{Float64,2}:\n",
       " -1.0885846182183796"
      ]
     },
     "execution_count": 113,
     "metadata": {},
     "output_type": "execute_result"
    }
   ],
   "source": [
    "wiring = FullyConnected(8, out_features)\n",
    "LTC = Flux.Recur(LTCCell(wiring, in_features), zeros(size(data_x)[1], # batch size\n",
    "                                              _state_size(LTC.cell))) # \n",
    "LTC(rand(1,2))"
   ]
  },
  {
   "cell_type": "code",
   "execution_count": 114,
   "metadata": {
    "hidden": true
   },
   "outputs": [
    {
     "name": "stdout",
     "output_type": "stream",
     "text": [
      "length(params(LTC)) = 13\n"
     ]
    },
    {
     "ename": "LoadError",
     "evalue": "\u001b[91mDimensionMismatch(\"arrays could not be broadcast to a common size; got a dimension with lengths 48 and 2\")\u001b[39m",
     "output_type": "error",
     "traceback": [
      "\u001b[91mDimensionMismatch(\"arrays could not be broadcast to a common size; got a dimension with lengths 48 and 2\")\u001b[39m",
      "",
      "Stacktrace:",
      " [1] _bcs1 at ./broadcast.jl:501 [inlined]",
      " [2] _bcs at ./broadcast.jl:495 [inlined] (repeats 2 times)",
      " [3] broadcast_shape at ./broadcast.jl:489 [inlined]",
      " [4] combine_axes at ./broadcast.jl:484 [inlined]",
      " [5] instantiate at ./broadcast.jl:266 [inlined]",
      " [6] materialize at ./broadcast.jl:837 [inlined]",
      " [7] adjoint at /home/solar/.julia/packages/Zygote/lwmfx/src/lib/broadcast.jl:74 [inlined]",
      " [8] _pullback(::Zygote.Context, ::typeof(Base.Broadcast.broadcasted), ::typeof(*), ::Array{Float32,3}, ::Array{Float64,2}) at /home/solar/.julia/packages/ZygoteRules/OjfTt/src/adjoint.jl:57",
      " [9] _map_inputs at ./In[73]:3 [inlined]",
      " [10] _pullback(::Zygote.Context, ::typeof(_map_inputs), ::LTCCell, ::Array{Float32,3}) at /home/solar/.julia/packages/Zygote/lwmfx/src/compiler/interface2.jl:0",
      " [11] LTCCell at ./In[71]:3 [inlined]",
      " [12] _pullback(::Zygote.Context, ::LTCCell, ::Array{Float64,2}, ::Array{Float32,3}) at /home/solar/.julia/packages/Zygote/lwmfx/src/compiler/interface2.jl:0",
      " [13] Recur at /home/solar/.julia/packages/Flux/qp1gc/src/layers/recurrent.jl:34 [inlined]",
      " [14] _pullback(::Zygote.Context, ::Flux.Recur{LTCCell,Array{Float64,2}}, ::Array{Float32,3}) at /home/solar/.julia/packages/Zygote/lwmfx/src/compiler/interface2.jl:0",
      " [15] macro expansion at ./show.jl:641 [inlined]",
      " [16] #28 at ./In[114]:4 [inlined]",
      " [17] _pullback(::Zygote.Context, ::var\"#28#29\") at /home/solar/.julia/packages/Zygote/lwmfx/src/compiler/interface2.jl:0",
      " [18] pullback(::Function, ::Zygote.Params) at /home/solar/.julia/packages/Zygote/lwmfx/src/compiler/interface.jl:247",
      " [19] gradient(::Function, ::Zygote.Params) at /home/solar/.julia/packages/Zygote/lwmfx/src/compiler/interface.jl:58",
      " [20] top-level scope at In[114]:3",
      " [21] include_string(::Function, ::Module, ::String, ::String) at ./loading.jl:1091"
     ]
    }
   ],
   "source": [
    "@show length(params(LTC))\n",
    "\n",
    "grads = Flux.gradient(params(LTC)) do\n",
    "     @show sum(LTC(data_x))\n",
    "end"
   ]
  },
  {
   "cell_type": "code",
   "execution_count": 128,
   "metadata": {
    "hidden": true
   },
   "outputs": [
    {
     "data": {
      "text/plain": [
       "Base.RefValue{Any}((cell = nothing, state = nothing))"
      ]
     },
     "execution_count": 128,
     "metadata": {},
     "output_type": "execute_result"
    }
   ],
   "source": [
    "grads[LTC]"
   ]
  },
  {
   "cell_type": "code",
   "execution_count": 132,
   "metadata": {
    "hidden": true
   },
   "outputs": [
    {
     "name": "stdout",
     "output_type": "stream",
     "text": [
      "\n",
      "(1, [0.29516186789572274, 0.5102270913001762, -0.4764293434276783, -0.922456562849922, 0.31002696376815153, -0.48741672169563743, -0.34467060888225043, -0.512348306074301])\n",
      "\n",
      "(2, [1.5045818704998288, 4.501890604818127, 4.209117020261336, 8.628970250040084, 1.2843096972497414, 0.5989526306795684, 1.7413484756085784, 2.234991267898473])\n",
      "\n",
      "(3, [-0.6786236361222011, -7.3945211284622046, -9.47946168174181, -8.978544735233715, -4.337086626493717, 0.2610642419859756, 1.5663169021136614, 4.036367514804417])\n",
      "\n",
      "(4, [-0.0690618890384682 0.16161270934362923 0.03027241810714818 -0.19973217810448307 0.010836742445836376 0.059633755776105205 -0.001322002508484603 0.01327172668108079; 0.0006456444862434857 0.007143057875587326 -0.06783855989026166 -0.06250666232303326 0.011480856054956596 -0.00022023053035800412 -0.005068535725237981 -0.004361181930809421; -0.0110111805597884 0.009431752641555888 -0.09307523943856895 -0.11392678914338858 -0.0206602349408851 -0.05334901427701315 -0.014224689386895376 0.033926707160219574; -0.01873611550764418 -0.06942078296720737 -0.19140108973252762 -0.2417000731596181 -0.013110723333002628 -0.019421729408242137 -0.0028073789601208536 0.04759384061947497; 0.018964477711578578 0.04480399397412652 -0.08189078964748407 -0.004995550431216893 0.014906877221987334 0.007658318850355705 -0.0053821203848785654 -0.02224443718054703; 0.023818283723929468 -0.019281011746045892 -0.09561185495433845 -0.47707724649061406 -0.015920716745463352 -0.009936953456649363 -0.0334527595984233 -0.0009349930012238347; 0.0029361098412739556 -0.02883084150722283 0.09606972554117554 0.050280990430771985 -0.06993092004455134 0.0079850598246314 0.00046097300442265695 -0.014591376499641293; -0.045264384073416174 0.028436543855691193 -0.062244507696506884 -0.08333313805590745 0.0033920262246034155 -0.007140969999739337 -0.004163321020848527 -0.14954445346251735])\n",
      "\n",
      "(5, [-0.7837700657569447 1.1607666047900966 0.1859641838550088 -1.7243100714496191 0.16701924182176087 1.0564805992108919 -0.014278606448821732 0.1130207530744778; -0.1923794465753666 1.5677322375499645 -1.9365679732928052 -3.551622381653403 -1.499275994092491 0.5024683594768348 0.8474539467847716 0.7673758339294114; -0.6569246661425799 0.3553777283147426 -1.9681413548986515 -1.8791812214989039 -0.415984301191742 -0.8821918512477723 -0.2297744108459738 0.48668253285470264; -0.9081096885846087 -1.3873947832683453 -2.4760188471193207 -3.3130516763921136 -0.5158960424600232 -0.6608274084476511 -0.055956241251825675 2.0932444003474227; 0.5917461717237683 1.4017753386691574 -2.658672763882454 -0.12407050350389305 0.4170810613028545 0.4619747273573761 -0.6943884951783055 -0.49292695125518254; 0.20862416937775033 -0.1911627560947956 -0.6990470508999691 -2.376808842098886 -0.2076626809291985 -0.150412048015208 -0.18124739591463096 -0.016851503135152327; 0.032543162195232164 -0.5356496427594188 0.777240658465518 0.779301875824983 -0.4023834351711578 0.06758475821974323 0.005964483244238653 -0.17938992855194646; -0.1990139120743991 0.3149503022934955 -0.7688070586645026 -0.5567527183769001 0.025462747889226794 -0.073947110404363 -0.047437889057617394 -0.5987141959779975])\n",
      "\n",
      "(6, [0.2908783482628204 -0.40974153096473687 -0.9071801941691544 0.8574132239090554 -0.0661040687176689 -0.2351300643682967 0.010136797570045274 -0.05597458212069823; 1.154771966972399 -2.0386322240840267 2.487439813677121 2.5823658663848343 1.827903919559209 -1.8273419249436678 -1.5747057952169985 -1.6013503506144686; 0.6797614650313055 -0.7315525080935713 0.9753577500766967 2.7790566539405233 1.0565169023582412 0.7812139833431369 0.8645147072073928 -0.7077742756444664; 0.5120731311313559 0.7881591675096169 1.2951217332072362 1.1152367159435723 0.6650719239114552 0.6152753374460704 0.7263604173180067 -1.0107889811373743; -0.5217701338872206 -0.848676159491413 1.1267192547527067 2.280827790842688 -1.1081450344239177 -1.035209096359927 0.7921277161085875 1.1102322281004198; -0.04622288644631199 0.12436364487632093 0.30818862650200024 0.947403283364828 0.035219338684963894 0.3484200937212544 0.23803000216903455 0.0904667114028544; -0.0068781852753826 0.34079013620557125 -0.3349231294071745 -0.1954088001787312 0.3027973473306419 -0.028618968905850514 -0.022223173237206226 0.039525776178898284; 0.07012868310298304 -0.06779391423513666 0.13061679347115607 0.23794306148886774 -0.018410827102828167 0.06452522593682446 0.024341437011112 0.2233911788915786])\n",
      "\n",
      "(7, [0.018049497733655724 -0.15602015099847172 -0.0 -0.0 -0.0 -0.0 -0.0 -0.0; -0.05145838198215805 0.2564512476432253 0.0 0.0 0.0 0.0 0.0 0.0])\n",
      "\n",
      "(8, [0.15406567131858545 -1.7613473112043527 -0.0 -0.0 -0.0 -0.0 -0.0 -0.0; 1.0304677790572714 -3.6486630732689838 -0.0 -0.0 -0.0 -0.0 -0.0 -0.0])\n",
      "\n",
      "(9, [-0.03813555152630578 0.7717543825493913 0.0 0.0 0.0 0.0 0.0 0.0; -1.2392573392701227 4.002188889396545 0.0 0.0 0.0 0.0 0.0 0.0])\n",
      "\n",
      "(10, [0.0 2.6181952942117124])\n",
      "\n",
      "(11, [1.6072816398857672 2.6181952942117124])\n",
      "\n",
      "(12, [0.41960393333425205, 1.0566720756943209, 2.764842762950692, 1.6242878456942371, 1.59287019154669, 0.004685476788812907, -0.7306774519811693, -1.6854295672842052])\n",
      "\n",
      "(13, 8-element Fill{Float64}: entries equal to 1.0)\n"
     ]
    }
   ],
   "source": [
    "for p in enumerate(grads)\n",
    "    println()\n",
    "    println(p)\n",
    "end"
   ]
  },
  {
   "cell_type": "code",
   "execution_count": 134,
   "metadata": {
    "hidden": true
   },
   "outputs": [],
   "source": [
    "# Traing"
   ]
  },
  {
   "cell_type": "code",
   "execution_count": null,
   "metadata": {
    "hidden": true
   },
   "outputs": [],
   "source": []
  },
  {
   "cell_type": "code",
   "execution_count": null,
   "metadata": {
    "hidden": true
   },
   "outputs": [],
   "source": []
  },
  {
   "cell_type": "code",
   "execution_count": null,
   "metadata": {
    "hidden": true
   },
   "outputs": [],
   "source": []
  }
 ],
 "metadata": {
  "kernelspec": {
   "display_name": "Julia 1.5.4",
   "language": "julia",
   "name": "julia-1.5"
  },
  "language_info": {
   "file_extension": ".jl",
   "mimetype": "application/julia",
   "name": "julia",
   "version": "1.5.4"
  }
 },
 "nbformat": 4,
 "nbformat_minor": 4
}
