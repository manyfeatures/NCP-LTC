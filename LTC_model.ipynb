{
 "cells": [
  {
   "cell_type": "code",
   "execution_count": 1,
   "metadata": {},
   "outputs": [],
   "source": [
    "using Flux\n",
    "using Plots\n",
    "using Parameters\n",
    "import Random\n",
    "using StatsBase # for random choice\n",
    "Random.seed!(1234);"
   ]
  },
  {
   "cell_type": "markdown",
   "metadata": {},
   "source": [
    "###### Data"
   ]
  },
  {
   "cell_type": "code",
   "execution_count": 2,
   "metadata": {},
   "outputs": [
    {
     "name": "stdout",
     "output_type": "stream",
     "text": [
      "(1, 48, 2)\n",
      "(1, 48, 1)\n"
     ]
    }
   ],
   "source": [
    "in_features = 2\n",
    "out_features = 1\n",
    "N = 48\n",
    "\n",
    "π_32 = Float32(π)\n",
    "t = range(0.0f0,stop=3π_32, length = N)\n",
    "sin_t = sin.(t)\n",
    "cos_t = cos.(t)\n",
    "data_x = reshape(hcat(sin_t, cos_t), (1, N, 2))\n",
    "data_y = reshape(sin.(range(0.0f0,stop=6π_32, length = N)), (1, N, 1))#.astype(np.float32)\n",
    "\n",
    "println(size(data_x))\n",
    "println(size(data_y))\n",
    "\n",
    "# Plots\n",
    "#plot(data_x[:,:,1]')\n",
    "#plot!(data_x[:,:,2]')\n",
    "#plot!(data_y[1,:,1])"
   ]
  },
  {
   "cell_type": "markdown",
   "metadata": {},
   "source": [
    "###### Wiring"
   ]
  },
  {
   "cell_type": "code",
   "execution_count": 3,
   "metadata": {},
   "outputs": [
    {
     "data": {
      "text/plain": [
       "_state_size (generic function with 1 method)"
      ]
     },
     "execution_count": 3,
     "metadata": {},
     "output_type": "execute_result"
    }
   ],
   "source": [
    "# Macro for inserting fields \n",
    "macro def(name, definition) \n",
    "  return quote\n",
    "      macro $(esc(name))()\n",
    "          esc($(Expr(:quote, definition)))\n",
    "      end\n",
    "  end\n",
    "end\n",
    "\n",
    "# Wiring\n",
    "# Do we really need the exact code as one for the biology?\n",
    "abstract type Wiring end\n",
    "@def wiring_fields begin\n",
    "     units\n",
    "     adjacency_matrix\n",
    "     sensory_adjacency_matrix\n",
    "     input_dim\n",
    "     output_dim\n",
    "end\n",
    "\n",
    "# Outer constructor\n",
    "#Wiring(units::Int64) = Wiring(units, zeros((units, units)), Nothing, Nothing)\n",
    "\n",
    "# Methods\n",
    "function _build(wiring::Wiring, input_shape) # for Wiring type\n",
    "    _input_dim = convert(Int, input_shape[2])\n",
    "    # do assert check\n",
    "    @show wiring.input_dim\n",
    "    if wiring.input_dim === nothing\n",
    "        set_input_dim(wiring, _input_dim)\n",
    "    end\n",
    "    @show wiring.input_dim\n",
    "end\n",
    "\n",
    "function add_synapse(adjacency_matrix, src, dest, polarity)\n",
    "    adjacency_matrix[src, dest] = polarity\n",
    "    #adjacency_matrix\n",
    "end\n",
    "\n",
    "function _init_add_synapse(units, adjacency_matrix, self_conn)\n",
    "    for src in (1:units)\n",
    "        for dest in (1:units)\n",
    "            if src === dest && !self_conn\n",
    "                continue\n",
    "            end\n",
    "            polarity = StatsBase.sample([-1,1,1])\n",
    "            add_synapse(adjacency_matrix, src, dest, polarity)\n",
    "            #println(src, dest)\n",
    "        end\n",
    "    end\n",
    "    #@show adjacency_matrix\n",
    "end\n",
    "\n",
    "function add_sensory_synapse(sensory_adjacency_matrix, src, dest, polarity)\n",
    "    sensory_adjacency_matrix[src, dest] = polarity\n",
    "    #adjacency_matrix\n",
    "end\n",
    "\n",
    "# not used?\n",
    "function set_input_dim(wiring::Wiring, _input_dim)\n",
    "    wiring.input_dim = _input_dim\n",
    "    units = wiring.units\n",
    "    wiring.sensory_adjacency_matrix = zeros((_input_dim, units))\n",
    "end \n",
    "\n",
    "function _erev_initializer(wiring::Wiring, shape=nothing, dtype=nothing) # dtype?\n",
    "    copy(wiring.adjacency_matrix)\n",
    "end\n",
    "\n",
    "function _sensory_erev_initializer(wiring::Wiring, shape=nothing, dtype=nothing) # dtype?\n",
    "    copy(wiring.sensory_adjacency_matrix)\n",
    "end\n",
    "\n",
    "function _state_size(wiring::Wiring)\n",
    "    return wiring.units\n",
    "end\n",
    "# Test \n",
    "#set_input_dim(wiring, 2)"
   ]
  },
  {
   "cell_type": "markdown",
   "metadata": {},
   "source": [
    "###### Fully Connected"
   ]
  },
  {
   "cell_type": "code",
   "execution_count": 4,
   "metadata": {},
   "outputs": [],
   "source": [
    "mutable struct FullyConnected <: Wiring\n",
    "    @wiring_fields\n",
    "    self_conns # default value ?\n",
    "    # Inner constructor\n",
    "    function FullyConnected(units, _input_dim = nothing, _output_dim = nothing, self_conns = true) #arguments order and call?\n",
    "        adjacency_matrix = zeros((units, units))\n",
    "        sensory_adjacency_matrix = nothing\n",
    "        if _output_dim === nothing\n",
    "            output_dim = units\n",
    "        else\n",
    "            output_dim = _output_dim\n",
    "        end\n",
    "        _init_add_synapse(units, adjacency_matrix, self_conns)\n",
    "        return new(units, adjacency_matrix, sensory_adjacency_matrix, _input_dim,\n",
    "                   output_dim, self_conns)\n",
    "    end\n",
    "end"
   ]
  },
  {
   "cell_type": "code",
   "execution_count": 5,
   "metadata": {},
   "outputs": [
    {
     "data": {
      "text/plain": [
       "build (generic function with 1 method)"
      ]
     },
     "execution_count": 5,
     "metadata": {},
     "output_type": "execute_result"
    }
   ],
   "source": [
    "# Methods\n",
    "function build(wiring::FullyConnected, input_shape)\n",
    "    _build(wiring, (nothing, in_features)) # from Wiring\n",
    "    @show wiring\n",
    "    input_dim = wiring.input_dim\n",
    "    units = wiring.input_dim\n",
    "    sensory_adjacency_matrix = wiring.sensory_adjacency_matrix\n",
    "    for src in (1:input_dim)\n",
    "        for dest in (1:units)\n",
    "#             if src === dest && !self_conn\n",
    "#                 continue\n",
    "#             end\n",
    "            polarity = StatsBase.sample([-1,1,1])\n",
    "            @show polarity\n",
    "            add_sensory_synapse(sensory_adjacency_matrix, src, dest, polarity)\n",
    "            #println(src, dest)\n",
    "        end\n",
    "    end\n",
    "end"
   ]
  },
  {
   "cell_type": "markdown",
   "metadata": {},
   "source": [
    "### LTC cell"
   ]
  },
  {
   "cell_type": "markdown",
   "metadata": {},
   "source": [
    "###### Definition\n"
   ]
  },
  {
   "cell_type": "code",
   "execution_count": 6,
   "metadata": {},
   "outputs": [],
   "source": [
    "struct LTCCell\n",
    "    _wiring::Wiring        \n",
    "    _init_ranges\n",
    "    _input_mapping::String\n",
    "    _output_mapping::String\n",
    "    _ode_unfolds::Int\n",
    "    _epsilon\n",
    "    _params::Dict # Is this trainable in Dict format?\n",
    "    state0 # for Recur\n",
    "    function LTCCell(wiring, in_features = nothing, input_mapping=\"affine\",\n",
    "            output_mapping=\"affine\", ode_unfolds=6, epsilon=1e-8, params=Dict(),\n",
    "            state0=zeros(1, 8))\n",
    "        if in_features !== nothing\n",
    "            build(wiring, (nothing, in_features))\n",
    "        end\n",
    "        # Is this proper place?\n",
    "        init_ranges = _get_init_ranges()\n",
    "        params = _allocate_parameters(wiring, params, init_ranges, input_mapping, output_mapping) \n",
    "        # How to launch it inside?\n",
    "        new(wiring, init_ranges, input_mapping, output_mapping, ode_unfolds,\n",
    "            epsilon, params, state0) # state0:(batch, units)? \n",
    "        #\n",
    "    end\n",
    "end"
   ]
  },
  {
   "cell_type": "code",
   "execution_count": 7,
   "metadata": {},
   "outputs": [
    {
     "data": {
      "text/plain": [
       "_get_init_ranges (generic function with 1 method)"
      ]
     },
     "execution_count": 7,
     "metadata": {},
     "output_type": "execute_result"
    }
   ],
   "source": [
    "function _get_init_ranges()\n",
    "    _init_ranges = Dict(\n",
    "            \"gleak\"=> (0.001, 1.0),\n",
    "            \"vleak\"=> (-0.2, 0.2),\n",
    "            \"cm\"=> (0.4, 0.6),\n",
    "            \"w\"=> (0.001, 1.0),\n",
    "            \"sigma\"=> (3, 8),\n",
    "            \"mu\"=> (0.3, 0.8),\n",
    "            \"sensory_w\"=> (0.001, 1.0),\n",
    "            \"sensory_sigma\"=> (3, 8),\n",
    "            \"sensory_mu\"=> (0.3, 0.8))\n",
    "end"
   ]
  },
  {
   "cell_type": "code",
   "execution_count": 8,
   "metadata": {},
   "outputs": [
    {
     "data": {
      "text/plain": [
       "_state_size (generic function with 2 methods)"
      ]
     },
     "execution_count": 8,
     "metadata": {},
     "output_type": "execute_result"
    }
   ],
   "source": [
    "# For initializing fields\n",
    "function _get_init_value(shape, name, init_ranges)\n",
    "    minval, maxval = init_ranges[name]\n",
    "    if minval === maxval\n",
    "        return ones(shape) * minval\n",
    "    else\n",
    "        return rand(Float64, shape) * (maxval - minval) .+ minval\n",
    "    end\n",
    "end\n",
    "\n",
    "# Not all values here need init_ranges! Decompose it\n",
    "function _init_weights_and_params(wiring, name::String, init_ranges)\n",
    "    state_size = _state_size(wiring)\n",
    "    _sensory_size = wiring.input_dim\n",
    "    if name in [\"gleak\", \"vleak\", \"cm\"]\n",
    "        return _get_init_value(state_size, name, init_ranges)\n",
    "    elseif name in [\"sigma\", \"mu\", \"w\"]\n",
    "        return _get_init_value((state_size, state_size), name, init_ranges)\n",
    "    elseif name in [\"sensory_sigma\", \"sensory_mu\", \"sensory_w\"]\n",
    "        return _get_init_value((_sensory_size, state_size), name, init_ranges)\n",
    "    elseif name in [\"erev\"]     \n",
    "         return _erev_initializer(wiring) \n",
    "    elseif name in [\"sensory_erev\"]     \n",
    "        return _sensory_erev_initializer(wiring) \n",
    "    elseif name in [\"sparsity_mask\"]\n",
    "        return abs.(wiring.adjacency_matrix)\n",
    "    elseif name in [\"sensory_sparsity_mask\"]    \n",
    "        return abs.(wiring.sensory_adjacency_matrix)\n",
    "    end\n",
    "end\n",
    "\n",
    "# Init all weights\n",
    "function _allocate_parameters(wiring, params, init_ranges, input_mapping, output_mapping)\n",
    "    println(\"alloc!\")\n",
    "    \n",
    "    _params_keys = [\"sigma\", \"mu\", \"w\", \"sensory_sigma\", \"sensory_mu\", \"sensory_w\",\n",
    "                    \"erev\", \"sensory_erev\", \"gleak\", \"vleak\", \"cm\", \"sparsity_mask\",\n",
    "                    \"sensory_sparsity_mask\"]\n",
    "    #println(fieldnames(wiring), \"We're here\")\n",
    "    _motor_size = wiring.output_dim\n",
    "    _sensory_size = wiring.input_dim\n",
    "    for _key in _params_keys\n",
    "        @show _key\n",
    "        #_init_weight()\n",
    "        params[_key] = _init_weights_and_params(wiring, _key, init_ranges)\n",
    "    end\n",
    "    # It is new fields !!!\n",
    "    if input_mapping in [\"affine\", \"linear\"]\n",
    "        params[\"input_w\"] = ones((1, _sensory_size))\n",
    "    end\n",
    "    if input_mapping in [\"affine\"]\n",
    "        params[\"input_b\"] = zeros((1, _sensory_size))\n",
    "    end\n",
    "    if output_mapping in [\"affine\", \"linear\"]\n",
    "        params[\"output_w\"] = ones(_motor_size)\n",
    "    end\n",
    "    if output_mapping in [\"affine\"]\n",
    "        params[\"output_b\"] = zeros(_motor_size)\n",
    "    end\n",
    "    return params\n",
    "end\n",
    "\n",
    "# Additional\n",
    "function _state_size(ltc::LTCCell)\n",
    "    return _state_size(ltc._wiring)\n",
    "end"
   ]
  },
  {
   "cell_type": "markdown",
   "metadata": {},
   "source": [
    "### ODE"
   ]
  },
  {
   "cell_type": "code",
   "execution_count": 9,
   "metadata": {},
   "outputs": [
    {
     "data": {
      "text/plain": [
       "_map_outputs (generic function with 1 method)"
      ]
     },
     "execution_count": 9,
     "metadata": {},
     "output_type": "execute_result"
    }
   ],
   "source": [
    "function _map_inputs(ltc::LTCCell, inputs)\n",
    "    if ltc._input_mapping in [\"affine\", \"linear\"]\n",
    "        inputs = inputs .* ltc._params[\"input_w\"] # Element-wise \n",
    "    end\n",
    "    if ltc._input_mapping === \"affine\"\n",
    "        inputs = inputs .+ ltc._params[\"input_b\"]\n",
    "    end\n",
    "    @assert size(inputs) === (1,2)\n",
    "    return inputs\n",
    "end\n",
    "\n",
    "function _map_outputs(ltc::LTCCell, state)\n",
    "    output = state\n",
    "    _motor_size = ltc._wiring.output_dim\n",
    "\n",
    "    if _motor_size < _state_size(ltc)\n",
    "        println(\"!oups\")\n",
    "        #output = output[:, 0 : self.motor_size]  # slice\n",
    "    end\n",
    "    if ltc._output_mapping in [\"affine\", \"linear\"]\n",
    "        output = output .* reshape(ltc._params[\"output_w\"], (1, size(ltc._params[\"output_w\"])...)) # Element-wise \n",
    "    end\n",
    "    if ltc._output_mapping === \"affine\"\n",
    "        output = output .+ reshape(ltc._params[\"output_w\"], (1, size(ltc._params[\"output_b\"])...)) # Element-wise \n",
    "    end\n",
    "    #@assert size(inputs) === (1,2)\n",
    "    return output    \n",
    "end"
   ]
  },
  {
   "cell_type": "code",
   "execution_count": 10,
   "metadata": {},
   "outputs": [
    {
     "data": {
      "text/plain": [
       "_sigmoid (generic function with 1 method)"
      ]
     },
     "execution_count": 10,
     "metadata": {},
     "output_type": "execute_result"
    }
   ],
   "source": [
    "function _sigmoid(v_pre, mu, sigma)\n",
    "    v_pre = reshape(v_pre, (size(v_pre)...,1)) # add batch dim\n",
    "    mu = reshape(mu, 1, size(mu)...) # for dims match ?\n",
    "    \n",
    "    mues = v_pre .- mu \n",
    "  \n",
    "    x = map(x_ -> (sigma .* x_), eachslice(mues, dims=1))[end]\n",
    "    x = reshape(x, 1, size(x)...) # for dims match\n",
    "    return σ.(x)\n",
    "end"
   ]
  },
  {
   "cell_type": "code",
   "execution_count": 11,
   "metadata": {},
   "outputs": [
    {
     "data": {
      "text/plain": [
       "complicated_prod (generic function with 1 method)"
      ]
     },
     "execution_count": 11,
     "metadata": {},
     "output_type": "execute_result"
    }
   ],
   "source": [
    "function complicated_prod(a, b; dim=1)\n",
    "    # This is for keeping some dim restriction during broadcasting\n",
    "    out = map(x -> a .* x, eachslice(b, dims=dim))[end]\n",
    "    reshape(out, 1, size(out)...) # for dims match ?\n",
    "end"
   ]
  },
  {
   "cell_type": "code",
   "execution_count": 12,
   "metadata": {},
   "outputs": [
    {
     "data": {
      "text/plain": [
       "_ode_solver_ (generic function with 1 method)"
      ]
     },
     "execution_count": 12,
     "metadata": {},
     "output_type": "execute_result"
    }
   ],
   "source": [
    "function _ode_solver_(ltc::LTCCell, inputs, state, elapsed_time)\n",
    "    v_pre = state\n",
    "    # We can pre-compute the effects of the sensory neurons here\n",
    "    println(\"Again we need slice(((\")\n",
    "    sensory_w_activation = complicated_prod(ltc._params[\"sensory_w\"],\n",
    "                                            _sigmoid(\n",
    "                                                     inputs, ltc._params[\"sensory_mu\"],\n",
    "                                                     ltc._params[\"sensory_sigma\"]))    \n",
    "    #@show size(sensory_w_activation)\n",
    "    #@show size(ltc._params[\"sensory_sparsity_mask\"])\n",
    "    sensory_w_activation =  complicated_prod(ltc._params[\"sensory_sparsity_mask\"], \n",
    "                                             sensory_w_activation,)\n",
    "    \n",
    "    sensory_rev_activation = complicated_prod(ltc._params[\"sensory_erev\"], sensory_w_activation)\n",
    "\n",
    "    # Reduce over dimension 1 (=source sensory neurons)\n",
    "    w_numerator_sensory = dropdims(sum(sensory_rev_activation, dims=2), dims=2)\n",
    "    w_denominator_sensory =  dropdims(sum(sensory_w_activation, dims=2), dims=2)\n",
    "\n",
    "\n",
    "# cm/t is loop invariant\n",
    "cm_t = ltc._params[\"cm\"] / (elapsed_time / ltc._ode_unfolds)\n",
    "# Unfold the multiply ODE multiple times into one RNN step\n",
    "    for t = 1:ltc._ode_unfolds\n",
    "        w_activation =  complicated_prod(ltc._params[\"w\"], \n",
    "                                        _sigmoid(\n",
    "                                                v_pre, ltc._params[\"mu\"],\n",
    "                                        ltc._params[\"sigma\"]))\n",
    "        w_activation = complicated_prod(ltc._params[\"sparsity_mask\"], w_activation) \n",
    "\n",
    "        rev_activation = complicated_prod(ltc._params[\"erev\"], w_activation)\n",
    "        # Reduce over dimension 1 (=source neurons)\n",
    "        w_numerator = dropdims(sum(rev_activation, dims=2), dims=2) .+ w_numerator_sensory\n",
    "        #w_numerator = sum(rev_activation, dim=2) + w_numerator_sensory\n",
    "        #w_denominator = sum(w_activation, dim=2) + w_denominator_sensory\n",
    "        w_denominator = dropdims(sum(w_activation, dims=2), dims=2) .+ w_denominator_sensory        \n",
    " \n",
    "        numerator = (\n",
    "            reshape(cm_t, (1, size(cm_t)...)) .* v_pre \n",
    "            .+ reshape(ltc._params[\"gleak\"], (1, size(ltc._params[\"gleak\"])...))  \n",
    "            .* reshape(ltc._params[\"vleak\"], (1, size(ltc._params[\"vleak\"])...))\n",
    "            .+ w_numerator\n",
    "        )\n",
    "        denominator = reshape(cm_t, (1, size(cm_t)...)) \n",
    "             .+ reshape(ltc._params[\"gleak\"], (1, size(ltc._params[\"gleak\"])...))  \n",
    "             .+ w_denominator\n",
    "        # Avoid dividing by 0\n",
    "        v_pre = numerator ./ (denominator .+ ltc._epsilon)\n",
    "        #@show size(v_pre)\n",
    "    end\n",
    "    return v_pre\n",
    "end"
   ]
  },
  {
   "cell_type": "markdown",
   "metadata": {},
   "source": [
    "### Forward"
   ]
  },
  {
   "cell_type": "code",
   "execution_count": 13,
   "metadata": {},
   "outputs": [],
   "source": [
    "function (ltc::LTCCell)(state, x) \n",
    "    println(\"inside\")\n",
    "    batch_size = size(x)[1] # batch dim\n",
    "    seq_len = size(x)[1]\n",
    "    hidden_state = zeros(batch_size, _state_size(ltc))\n",
    "    t = 1 # should be loop for sequence or just \".\" ?\n",
    "    inputs = x[:, t, :]\n",
    "    inputs = _map_inputs(ltc, inputs)\n",
    "    next_state = _ode_solver_(ltc, inputs, hidden_state, 1.0)# The 2nd arg is init state, ltc instead of RNN\n",
    "    outputs = _map_outputs(ltc, next_state)\n",
    "    return next_state, outputs # for Recur\n",
    "end"
   ]
  },
  {
   "cell_type": "markdown",
   "metadata": {},
   "source": [
    "# Grad test"
   ]
  },
  {
   "cell_type": "code",
   "execution_count": 14,
   "metadata": {},
   "outputs": [],
   "source": [
    "Flux.trainable(ltc::LTCCell) = (ltc._params[\"sensory_w\"],) "
   ]
  },
  {
   "cell_type": "code",
   "execution_count": 15,
   "metadata": {},
   "outputs": [
    {
     "name": "stdout",
     "output_type": "stream",
     "text": [
      "wiring.input_dim = nothing\n",
      "wiring.input_dim = 2\n",
      "wiring = FullyConnected(8, [-1.0 1.0 1.0 -1.0 1.0 -1.0 1.0 1.0; 1.0 1.0 -1.0 -1.0 1.0 1.0 -1.0 1.0; 1.0 1.0 1.0 1.0 1.0 1.0 1.0 1.0; 1.0 -1.0 -1.0 -1.0 -1.0 1.0 1.0 -1.0; 1.0 1.0 1.0 1.0 1.0 -1.0 1.0 -1.0; -1.0 1.0 -1.0 1.0 1.0 1.0 -1.0 1.0; -1.0 1.0 1.0 1.0 1.0 -1.0 1.0 -1.0; -1.0 1.0 1.0 1.0 1.0 1.0 -1.0 1.0], [0.0 0.0 0.0 0.0 0.0 0.0 0.0 0.0; 0.0 0.0 0.0 0.0 0.0 0.0 0.0 0.0], 2, 8, true)\n",
      "polarity = 1\n",
      "polarity = -1\n",
      "polarity = -1\n",
      "polarity = -1\n",
      "alloc!\n",
      "_key = \"sigma\"\n",
      "_key = \"mu\"\n",
      "_key = \"w\"\n",
      "_key = \"sensory_sigma\"\n",
      "_key = \"sensory_mu\"\n",
      "_key = \"sensory_w\"\n",
      "_key = \"erev\"\n",
      "_key = \"sensory_erev\"\n",
      "_key = \"gleak\"\n",
      "_key = \"vleak\"\n",
      "_key = \"cm\"\n",
      "_key = \"sparsity_mask\"\n",
      "_key = \"sensory_sparsity_mask\"\n",
      "inside\n",
      "Again we need slice(((\n"
     ]
    },
    {
     "data": {
      "text/plain": [
       "1×8 Array{Float64,2}:\n",
       " 1.39656  0.782549  1.77031  2.25922  1.36065  1.53868  1.05892  1.79086"
      ]
     },
     "execution_count": 15,
     "metadata": {},
     "output_type": "execute_result"
    }
   ],
   "source": [
    "wiring = FullyConnected(8)\n",
    "LTC = Flux.Recur(LTCCell(wiring, in_features), rand(1,8)) # toy state\n",
    "LTC(data_x)"
   ]
  },
  {
   "cell_type": "code",
   "execution_count": 16,
   "metadata": {},
   "outputs": [
    {
     "name": "stdout",
     "output_type": "stream",
     "text": [
      "params(LTC) = Params([[0.4248197446008244 0.6908924455877022 0.11536149878993325 0.07144266615163494 0.826478572788968 0.6693851911184779 0.4862827935623121 0.8432499804449927; 0.41455007502452434 0.393331359807225 0.7390817741758764 0.2581449122326856 0.34275247560166827 0.6756128032096728 0.39329941905039223 0.391323832511804]])\n",
      "inside\n",
      "Again we need slice(((\n",
      "sum(LTC(data_x)) = 11.957754241565564\n"
     ]
    },
    {
     "data": {
      "text/plain": [
       "Grads(...)"
      ]
     },
     "execution_count": 16,
     "metadata": {},
     "output_type": "execute_result"
    }
   ],
   "source": [
    "@show params(LTC)\n",
    "\n",
    "grads = Flux.gradient(params(LTC)) do\n",
    "     @show sum(LTC(data_x))\n",
    "end"
   ]
  },
  {
   "cell_type": "code",
   "execution_count": 17,
   "metadata": {},
   "outputs": [
    {
     "name": "stdout",
     "output_type": "stream",
     "text": [
      "[0.01909806832161306 -0.3189497312710684 0.0 -0.0 0.0 0.0 0.0 0.0; -4.909365361761815 -1.7367534971362426 0.0 -0.0 0.0 0.0 0.0 0.0]\n"
     ]
    }
   ],
   "source": [
    "for p in grads\n",
    "    println(p)\n",
    "end"
   ]
  },
  {
   "cell_type": "code",
   "execution_count": 18,
   "metadata": {},
   "outputs": [],
   "source": [
    "# make all the params as separeate fields"
   ]
  }
 ],
 "metadata": {
  "kernelspec": {
   "display_name": "Julia 1.5.4",
   "language": "julia",
   "name": "julia-1.5"
  },
  "language_info": {
   "file_extension": ".jl",
   "mimetype": "application/julia",
   "name": "julia",
   "version": "1.5.4"
  }
 },
 "nbformat": 4,
 "nbformat_minor": 4
}
